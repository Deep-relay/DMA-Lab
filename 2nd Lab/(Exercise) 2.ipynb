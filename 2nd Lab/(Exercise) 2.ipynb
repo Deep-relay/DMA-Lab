{
 "cells": [
  {
   "cell_type": "markdown",
   "metadata": {},
   "source": [
    "#### Q1: Write a Python program to find the list in a list of lists whose sum of elements is the highest. \n",
    "#### Sample lists: [1,2,3], [4,5,6], [10,11,12], [7,8,9]\n",
    "##### Answer: [10,11,12]"
   ]
  },
  {
   "cell_type": "code",
   "execution_count": 2,
   "metadata": {},
   "outputs": [
    {
     "name": "stdout",
     "output_type": "stream",
     "text": [
      "[1, 2, 3]\n"
     ]
    }
   ],
   "source": [
    "def get():\n",
    "    n=int(input('Enter the number of lists'))\n",
    "    result=[]\n",
    "    for i in range(n):\n",
    "        temp=input(f'Enter space separated values for {i+1} list: ')\n",
    "        result.append(list(map(int, temp.split())))\n",
    "    return result\n",
    "def solve(lists:list[list[int]]):\n",
    "    temp=float('-inf')\n",
    "    result=[]\n",
    "    for list in lists:\n",
    "        if sum(list)>temp:\n",
    "            result=list\n",
    "            temp=sum(list)\n",
    "    return result\n",
    "print(solve(get()))\n"
   ]
  },
  {
   "cell_type": "markdown",
   "metadata": {},
   "source": [
    "#### Q2. Write a python program to check whether a given list contains a given sublist?\n",
    "#### Sample: [1,2,3,4,5,6] [3,4]\n",
    "##### Answer: True"
   ]
  },
  {
   "cell_type": "code",
   "execution_count": 5,
   "metadata": {},
   "outputs": [
    {
     "name": "stdout",
     "output_type": "stream",
     "text": [
      "False\n"
     ]
    }
   ],
   "source": [
    "def get(s):\n",
    "    return list(map(int, input(f'Enter the {s} elements separated by space: ').split()))\n",
    "def solve(list, sublist):\n",
    "    for i in range(len(list)):\n",
    "        if list[i:i+len(sublist)]==sublist:\n",
    "            return True\n",
    "    return False\n",
    "print(solve(get('List'), get('Sublist')))\n"
   ]
  }
 ],
 "metadata": {
  "kernelspec": {
   "display_name": "Python 3",
   "language": "python",
   "name": "python3"
  },
  "language_info": {
   "codemirror_mode": {
    "name": "ipython",
    "version": 3
   },
   "file_extension": ".py",
   "mimetype": "text/x-python",
   "name": "python",
   "nbconvert_exporter": "python",
   "pygments_lexer": "ipython3",
   "version": "3.12.2"
  }
 },
 "nbformat": 4,
 "nbformat_minor": 2
}
