{
 "cells": [
  {
   "cell_type": "markdown",
   "metadata": {},
   "source": [
    "##### Question 1: You are required to write a program to sort the (name, age, height) tuples by ascending order where name is string, age and height are numbers. The tuples are input by console. The sort criteria is: 1: Sort based on name; 2: Then sort based on age; 3: Then sort by score. The priority is that name > age > score.\n",
    "##### If the following tuples are given as input to the program:\n",
    "###### Tom,19,80\n",
    "###### John,20,90\n",
    "###### Jony,17,91\n",
    "###### Jony,17,93\n",
    "###### Json,21,85\n",
    "Then, the output of the program should be:\n",
    "[('John', '20', '90'), ('Jony', '17', '91'), ('Jony', '17', '93'), ('Json', '21', '85'), ('Tom', '19', '80')]"
   ]
  },
  {
   "cell_type": "code",
   "execution_count": 16,
   "metadata": {},
   "outputs": [
    {
     "name": "stdout",
     "output_type": "stream",
     "text": [
      "[('tony', 19, 80), ('tony', 19, 75), ('tom', 18, 75), ('json', 21, 85), ('jony', 18, 92), ('jony', 17, 93), ('jony', 17, 91), ('jony', 17, 90), ('john', 20, 90), ('john', 20, 85), ('john', 20, 80), ('jack', 20, 95), ('jack', 20, 80)]\n"
     ]
    }
   ],
   "source": [
    "def get():\n",
    "    return tuple(input('Enter the name, the age and teh score separated by space: ').split())\n",
    "def getScores():\n",
    "    n=int(input('Enter the total number of students'))\n",
    "    result=[]\n",
    "    for i in range(n):\n",
    "        result.append(get())\n",
    "    return result\n",
    "# args=[('john', 20, 90), ('jony', 17, 91), ('jony', 17, 93), ('json', 21, 85), ('tony', 19, 80)]\n",
    "args = [\n",
    "    ('john', 20, 90), \n",
    "    ('jony', 17, 91), \n",
    "    ('jony', 17, 93), \n",
    "    ('json', 21, 85), \n",
    "    ('tony', 19, 80),\n",
    "    ('john', 20, 85),  \n",
    "    ('jony', 18, 92), \n",
    "    ('jony', 17, 90), \n",
    "    ('jack', 20, 80),  \n",
    "    ('john', 20, 80), \n",
    "    ('jack', 20, 95), \n",
    "    ('tom', 18, 75),   \n",
    "    ('tony', 19, 75), \n",
    "]\n",
    "\n",
    "def comparator(a, b):\n",
    "    if a[0]>b[0]:\n",
    "        return 1\n",
    "    elif a[0]==b[0]:\n",
    "        if a[1]>b[1]:\n",
    "            return 1\n",
    "        elif a[1]==b[2]:\n",
    "            if a[2]>b[2]:\n",
    "                return 1\n",
    "            else:\n",
    "                return -1\n",
    "        else:\n",
    "            return -1\n",
    "    else:\n",
    "        return -1\n",
    "args.sort(key=lambda a:(a[0], a[1], a[2]), reverse=True)\n",
    "print(args)\n",
    "        \n"
   ]
  },
  {
   "cell_type": "markdown",
   "metadata": {},
   "source": [
    "##### Question 2: Calculate Word Frequencies. Take a set of sentences in a string as an input. Count each unique occurrence of a word and calculate frequency of occurrence and store in a dictionary. Produce a frequency table.\n",
    "###### Hint1: Iterate through the string, placing the words into a dict. The first time a word is seen, the frequency is 1. Each time the word is seen again, increment the frequency. "
   ]
  },
  {
   "cell_type": "code",
   "execution_count": null,
   "metadata": {},
   "outputs": [
    {
     "name": "stdout",
     "output_type": "stream",
     "text": [
      "Word           Frequency \n",
      "-------------------------\n",
      "apple          5         \n",
      "banana         4         \n",
      "orange         3         \n",
      "grape          2         \n"
     ]
    }
   ],
   "source": [
    "def get():\n",
    "    return input('Enter the sentence with words separated by space : ').split()\n",
    "def solve(sentence):\n",
    "    dict={}\n",
    "    for word in sentence:\n",
    "        if word in dict:\n",
    "            dict[word]+=1\n",
    "        else:\n",
    "            dict[word]=1\n",
    "    return dict\n",
    "def printToTable(word_dict):\n",
    "    print(f'{\"Word\":<15}{\"Frequency\":<10}')#in order to display in a proper manner, the left align of 15 and 10 characters is used respectively\n",
    "    print('-' * 25)\n",
    "    for word, frequency in word_dict.items():\n",
    "        print(f'{word:<15}{frequency:<10}')\n",
    "def final():\n",
    "    printToTable(solve(get()))\n",
    "final()"
   ]
  },
  {
   "cell_type": "markdown",
   "metadata": {},
   "source": [
    "##### Question 3: Result Calculation. Create a dictionary and a list like following.\n",
    "###### Student = { 'UE183001': 'Avish', 'UE183002': 'Bhavya', 'UE183003': 'Tanya' } Add atleast 10 students\n",
    "###### Marks = [('UE183001', 'CS', 94 ), ('UE183002', 'CS', 64 ), ('UE183001', 'RV', 94), ('UE183002', 'CS', 74), ('UE183003', 'CS', 64)] Add some more values\n",
    "###### Find total marks of each students and display full name of student with total marks secured. This is the basic relational database join algorithm between two tables."
   ]
  },
  {
   "cell_type": "code",
   "execution_count": 30,
   "metadata": {},
   "outputs": [
    {
     "name": "stdout",
     "output_type": "stream",
     "text": [
      "UE183001       94             88             79             \n",
      "UE183002       64             75             82             \n",
      "UE183003       84             90             85             \n",
      "UE183004       72             78             80             \n",
      "UE183005       88             82             91             \n",
      "UE183006       76             85             79             \n",
      "UE183007       91             87             92             \n",
      "UE183008       67             74             70             \n",
      "UE183009       79             80             72             \n",
      "UE183010       82             83             88             \n",
      "UE183011       74             79             77             \n",
      "UE183012       86             89             91             \n",
      "UE183013       80             77             78             \n",
      "UE183014       89             90             92             \n",
      "UE183015       77             81             83             \n"
     ]
    }
   ],
   "source": [
    "# Student dictionary with 15 students\n",
    "students = {\n",
    "    'UE183001': 'Avish',\n",
    "    'UE183002': 'Bhavya',\n",
    "    'UE183003': 'Tanya',\n",
    "    'UE183004': 'Rohan',\n",
    "    'UE183005': 'Ishika',\n",
    "    'UE183006': 'Nitin',\n",
    "    'UE183007': 'Anjali',\n",
    "    'UE183008': 'Kunal',\n",
    "    'UE183009': 'Pooja',\n",
    "    'UE183010': 'Sarthak',\n",
    "    'UE183011': 'Meera',\n",
    "    'UE183012': 'Aditya',\n",
    "    'UE183013': 'Neha',\n",
    "    'UE183014': 'Aryan',\n",
    "    'UE183015': 'Divya'\n",
    "}\n",
    "# Marks list with roll numbers, subject names, and marks for multiple subjects\n",
    "marks = [\n",
    "    ('UE183001', 'CS', 94), ('UE183001', 'RV', 88), ('UE183001', 'Math', 79),\n",
    "    ('UE183002', 'CS', 64), ('UE183002', 'RV', 75), ('UE183002', 'Math', 82),\n",
    "    ('UE183003', 'CS', 84), ('UE183003', 'RV', 90), ('UE183003', 'Math', 85),\n",
    "    ('UE183004', 'CS', 72), ('UE183004', 'RV', 78), ('UE183004', 'Math', 80),\n",
    "    ('UE183005', 'CS', 88), ('UE183005', 'RV', 82), ('UE183005', 'Math', 91),\n",
    "    ('UE183006', 'CS', 76), ('UE183006', 'RV', 85), ('UE183006', 'Math', 79),\n",
    "    ('UE183007', 'CS', 91), ('UE183007', 'RV', 87), ('UE183007', 'Math', 92),\n",
    "    ('UE183008', 'CS', 67), ('UE183008', 'RV', 74), ('UE183008', 'Math', 70),\n",
    "    ('UE183009', 'CS', 79), ('UE183009', 'RV', 80), ('UE183009', 'Math', 72),\n",
    "    ('UE183010', 'CS', 82), ('UE183010', 'RV', 83), ('UE183010', 'Math', 88),\n",
    "    ('UE183011', 'CS', 74), ('UE183011', 'RV', 79), ('UE183011', 'Math', 77),\n",
    "    ('UE183012', 'CS', 86), ('UE183012', 'RV', 89), ('UE183012', 'Math', 91),\n",
    "    ('UE183013', 'CS', 80), ('UE183013', 'RV', 77), ('UE183013', 'Math', 78),\n",
    "    ('UE183014', 'CS', 89), ('UE183014', 'RV', 90), ('UE183014', 'Math', 92),\n",
    "    ('UE183015', 'CS', 77), ('UE183015', 'RV', 81), ('UE183015', 'Math', 83)\n",
    "]\n",
    "def getMarks():\n",
    "    global marks\n",
    "    studentMarks={}\n",
    "    for mark in marks:\n",
    "        if mark[0] not in studentMarks:\n",
    "            studentMarks[mark[0]]=[(mark[1],mark[2])]\n",
    "        else:\n",
    "            studentMarks[mark[0]].append((mark[1], mark[2]))\n",
    "    return studentMarks\n",
    "def printMarks(list):\n",
    "    for student, marks in zip(list.keys(), list.values()):\n",
    "        print(f'{student:<15}', end='')\n",
    "        for mark in marks:\n",
    "            print(f'{mark[1]:<15}', end='')\n",
    "        print()\n",
    "printMarks(getMarks())\n",
    "\n",
    "\n"
   ]
  },
  {
   "cell_type": "markdown",
   "metadata": {},
   "source": [
    "##### Question 4: A date of the form 8-MAR-85 includes the name of the month, which must be translated to a number. Create a dict suitable for decoding month names to numbers. Create a function which uses string operations to split the date into 3 items using the \"-\" character. Translate the month, correct the year to include all of the digits.\n",
    "###### The function will accept a date in the \"dd-MMM-yy\" format and respond with a tuple of ( y , m , d ).\n",
    "\n"
   ]
  },
  {
   "cell_type": "code",
   "execution_count": 32,
   "metadata": {},
   "outputs": [
    {
     "name": "stdout",
     "output_type": "stream",
     "text": [
      "('44', 3, '22')\n"
     ]
    }
   ],
   "source": [
    "months={\n",
    "    'JAN':1, \n",
    "'FEB':2,\n",
    "'MAR':3,\n",
    "'APR':4,\n",
    "'MAY':5,\n",
    "'JUN':6,\n",
    "'JUL':7,\n",
    "'AUG':8,\n",
    "'SEP':9,\n",
    "'OCT':10,\n",
    "'NOV':11,\n",
    "'DEC':12\n",
    "}\n",
    "def getDate():\n",
    "    return input('Enter date in format dd-MMM-yy: ').split('-')\n",
    "def solve(date):\n",
    "    return (date[2], months[date[1]], date[0])\n",
    "print(solve(getDate()))"
   ]
  },
  {
   "cell_type": "markdown",
   "metadata": {},
   "source": [
    "##### Dice Odds. There are 36 possible combinations of two dice. A simple pair of loops over range(6)+1 will enumerate all combinations. The sum of the two dice is more interesting than the actual combination. Create a dict of all combinations, using the sum of the two dice as the key. Each value in the dict should be a list of tuples; each tuple has the value of two dice. "
   ]
  },
  {
   "cell_type": "code",
   "execution_count": 34,
   "metadata": {},
   "outputs": [
    {
     "name": "stdout",
     "output_type": "stream",
     "text": [
      "Sum            Possibilities  \n",
      "0              [(0, 0)]\n",
      "1              [(0, 1), (1, 0)]\n",
      "2              [(0, 2), (1, 1), (2, 0)]\n",
      "3              [(0, 3), (1, 2), (2, 1), (3, 0)]\n",
      "4              [(0, 4), (1, 3), (2, 2), (3, 1), (4, 0)]\n",
      "5              [(0, 5), (1, 4), (2, 3), (3, 2), (4, 1), (5, 0)]\n",
      "6              [(0, 6), (1, 5), (2, 4), (3, 3), (4, 2), (5, 1), (6, 0)]\n",
      "7              [(1, 6), (2, 5), (3, 4), (4, 3), (5, 2), (6, 1)]\n",
      "8              [(2, 6), (3, 5), (4, 4), (5, 3), (6, 2)]\n",
      "9              [(3, 6), (4, 5), (5, 4), (6, 3)]\n",
      "10             [(4, 6), (5, 5), (6, 4)]\n",
      "11             [(5, 6), (6, 5)]\n",
      "12             [(6, 6)]\n"
     ]
    }
   ],
   "source": [
    "def getPossibilites():\n",
    "    result={}\n",
    "    for i in range(7):\n",
    "        for j in range(7):\n",
    "            if i+j in result:\n",
    "                result[i+j].append((i,j))\n",
    "            else:\n",
    "                result[i+j]=[(i,j)]\n",
    "    return result\n",
    "def printPossibilities(list):\n",
    "    print(f'{'Sum':<15}{'Possibilities':<15}')\n",
    "    for key, possibilites in zip(list.keys(), list.values()):\n",
    "        print(f'{key:<15}{possibilites}')\n",
    "printPossibilities(getPossibilites())"
   ]
  }
 ],
 "metadata": {
  "kernelspec": {
   "display_name": "Python 3",
   "language": "python",
   "name": "python3"
  },
  "language_info": {
   "codemirror_mode": {
    "name": "ipython",
    "version": 3
   },
   "file_extension": ".py",
   "mimetype": "text/x-python",
   "name": "python",
   "nbconvert_exporter": "python",
   "pygments_lexer": "ipython3",
   "version": "3.12.2"
  }
 },
 "nbformat": 4,
 "nbformat_minor": 2
}
