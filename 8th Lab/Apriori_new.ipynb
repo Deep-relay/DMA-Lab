{
 "cells": [
  {
   "cell_type": "markdown",
   "metadata": {},
   "source": [
    "#### This notebook is to understand the Apriori Algorithm"
   ]
  },
  {
   "cell_type": "code",
   "execution_count": 3,
   "metadata": {},
   "outputs": [],
   "source": [
    "from collections import Counter,OrderedDict"
   ]
  },
  {
   "cell_type": "code",
   "execution_count": 6,
   "metadata": {},
   "outputs": [],
   "source": [
    "# This Function is used to generate all the subset of any set\n",
    "def genSubsets(l):\n",
    "    powerSetSize = 2 ** len(l)\n",
    "    powerSet = []\n",
    "    for i in range(1,powerSetSize):\n",
    "        tempEle = []\n",
    "        for j in range(len(l)):\n",
    "            binFlagInd = i & (1 << j)\n",
    "            if binFlagInd:\n",
    "                tempEle.append(l[j])\n",
    "        powerSet.append(tempEle)\n",
    "    return powerSet"
   ]
  },
  {
   "cell_type": "code",
   "execution_count": 7,
   "metadata": {},
   "outputs": [
    {
     "name": "stdout",
     "output_type": "stream",
     "text": [
      "[[1], [2], [1, 2], [3], [1, 3], [2, 3], [1, 2, 3], [4], [1, 4], [2, 4], [1, 2, 4], [3, 4], [1, 3, 4], [2, 3, 4], [1, 2, 3, 4], [5], [1, 5], [2, 5], [1, 2, 5], [3, 5], [1, 3, 5], [2, 3, 5], [1, 2, 3, 5], [4, 5], [1, 4, 5], [2, 4, 5], [1, 2, 4, 5], [3, 4, 5], [1, 3, 4, 5], [2, 3, 4, 5], [1, 2, 3, 4, 5]]\n"
     ]
    }
   ],
   "source": [
    "print(genSubsets([1, 2, 3, 4, 5]))"
   ]
  },
  {
   "cell_type": "code",
   "execution_count": 8,
   "metadata": {},
   "outputs": [],
   "source": [
    "\n",
    "    \n",
    "def initPass(txList): # list of transactions, most possibly a dict\n",
    "    allTx = [item for tx in txList for item in tx]\n",
    "    allTx.sort()\n",
    "    cntr =  OrderedDict()\n",
    "    for tx in allTx:\n",
    "        cntr[tx] = cntr.get(tx,0) + 1 # 0 default value hai, agar tx ke liye get na hua then 0 output aayega get function ka\n",
    "\n",
    "    return cntr\n",
    "\n"
   ]
  },
  {
   "cell_type": "code",
   "execution_count": 9,
   "metadata": {},
   "outputs": [
    {
     "name": "stdout",
     "output_type": "stream",
     "text": [
      "OrderedDict({'1': 3, '2': 3, '3': 3, '4': 1, '5': 3})\n"
     ]
    }
   ],
   "source": [
    "T = [\n",
    "    ['1', '3', '4'],\n",
    "    ['2', '3', '5'],\n",
    "    ['1', '2', '3', '5'],\n",
    "    ['1','2','5']\n",
    "    ]\n",
    "print(initPass(T))"
   ]
  },
  {
   "cell_type": "code",
   "execution_count": 10,
   "metadata": {},
   "outputs": [],
   "source": [
    "# Apriori Algorithm Implementation\n",
    "def genCandidate(Fk1): #Fk1 indicates F(k-1), it is a list of lists\n",
    "    Ck = []\n",
    "    k1  = len(Fk1[0])\n",
    "\n",
    "    # COMBINE STEP\n",
    "    for i in range(len(Fk1)-1):\n",
    "        for j in range(i+1,len(Fk1)):\n",
    "            f1,f2 = Fk1[i],Fk1[j]\n",
    "\n",
    "            if f1[:len(f1)-1] == f2[:len(f2)-1] and f1[-1] < f2[-1]:\n",
    "                tempC = f1 + [f2[-1]]\n",
    "\n",
    "                # PRUNING STEP\n",
    "                subset = genSubsets(tempC)\n",
    "                appendSts = True\n",
    "                for item in subset:\n",
    "                    if len(item) == k1 and item not in Fk1:\n",
    "                        appendSts = False\n",
    "                if appendSts:\n",
    "                    Ck.append(tempC)              \n",
    "    return Ck"
   ]
  },
  {
   "cell_type": "code",
   "execution_count": 11,
   "metadata": {},
   "outputs": [
    {
     "name": "stdout",
     "output_type": "stream",
     "text": [
      "[['1', '2'], ['1', '3'], ['1', '5'], ['2', '3'], ['2', '5'], ['3', '5']]\n"
     ]
    }
   ],
   "source": [
    "print(genCandidate([['1'], ['2'], ['3'], ['5']]))"
   ]
  },
  {
   "cell_type": "code",
   "execution_count": 12,
   "metadata": {},
   "outputs": [],
   "source": [
    "def searchInT(t,candid):\n",
    "    found = True\n",
    "    for eachCandid in candid:\n",
    "        if eachCandid not in t:\n",
    "            found = False\n",
    "\n",
    "    return found\n"
   ]
  },
  {
   "cell_type": "code",
   "execution_count": null,
   "metadata": {},
   "outputs": [
    {
     "name": "stdout",
     "output_type": "stream",
     "text": [
      "\n",
      "Association Rules and Confidence:\n",
      "['1'] => ['2'] : Confidence = 0.67\n",
      "['2'] => ['1'] : Confidence = 0.67\n",
      "['1'] => ['3'] : Confidence = 0.67\n",
      "['3'] => ['1'] : Confidence = 0.67\n",
      "['1'] => ['5'] : Confidence = 0.67\n",
      "['5'] => ['1'] : Confidence = 0.67\n",
      "['2'] => ['3'] : Confidence = 0.67\n",
      "['3'] => ['2'] : Confidence = 0.67\n",
      "['2'] => ['5'] : Confidence = 1.00\n",
      "['5'] => ['2'] : Confidence = 1.00\n",
      "['3'] => ['5'] : Confidence = 0.67\n",
      "['5'] => ['3'] : Confidence = 0.67\n",
      "['1'] => ['2', '5'] : Confidence = 0.67\n",
      "['2'] => ['1', '5'] : Confidence = 0.67\n",
      "['5'] => ['1', '2'] : Confidence = 0.67\n",
      "['1', '2'] => ['5'] : Confidence = 1.00\n",
      "['1', '5'] => ['2'] : Confidence = 1.00\n",
      "['2', '5'] => ['1'] : Confidence = 0.67\n",
      "['2'] => ['3', '5'] : Confidence = 0.67\n",
      "['3'] => ['2', '5'] : Confidence = 0.67\n",
      "['5'] => ['3', '2'] : Confidence = 0.67\n",
      "['3', '2'] => ['5'] : Confidence = 1.00\n",
      "['2', '5'] => ['3'] : Confidence = 0.67\n",
      "['3', '5'] => ['2'] : Confidence = 1.00\n"
     ]
    }
   ],
   "source": [
    "# Apriori Algorithm Implementation\n",
    "def genCandidate(Fk1): #Fk1 indicates F(k-1), it is a list of lists\n",
    "    Ck = []\n",
    "    k1  = len(Fk1[0])\n",
    "\n",
    "    # COMBINE STEP\n",
    "    for i in range(len(Fk1)-1):\n",
    "        for j in range(i+1,len(Fk1)):\n",
    "            f1,f2 = Fk1[i],Fk1[j]\n",
    "\n",
    "            if f1[:len(f1)-1] == f2[:len(f2)-1] and f1[-1] < f2[-1]:\n",
    "                tempC = f1 + [f2[-1]]\n",
    "\n",
    "                # PRUNING STEP\n",
    "                subset = genSubsets(tempC)\n",
    "                appendSts = True\n",
    "                for item in subset:\n",
    "                    if len(item) == k1 and item not in Fk1:\n",
    "                        appendSts = False\n",
    "                if appendSts:\n",
    "                    Ck.append(tempC)              \n",
    "    return Ck\n",
    "\n",
    "def searchInT(t,candid):\n",
    "    found = True\n",
    "    for eachCandid in candid:\n",
    "        if eachCandid not in t:\n",
    "            found = False\n",
    "\n",
    "    return found\n",
    "def initPass(txList): # list of transactions, most possibly a dict\n",
    "    allTx = [item for tx in txList for item in tx]\n",
    "    allTx.sort()\n",
    "    cntr =  OrderedDict()\n",
    "    for tx in allTx:\n",
    "        cntr[tx] = cntr.get(tx,0) + 1 # 0 default value hai, agar tx ke liye get na hua then 0 output aayega get function ka\n",
    "\n",
    "    return cntr\n",
    "\n",
    "def apriori(T,minSup):\n",
    "    finalSet = []\n",
    "    c1 = initPass(T)\n",
    "    f = [[item] for item in c1.keys() if c1[item]/len(T) >= minSup] # f1\n",
    "    print(f)\n",
    "    for item in f:\n",
    "        finalSet.append(item)\n",
    "\n",
    "    while len(f) != 0:\n",
    "        Ck = genCandidate(f)\n",
    "        print(\"Ck\")\n",
    "        print(Ck)\n",
    "        freqDict = {}\n",
    "        for t in T:\n",
    "            for candidate in Ck:\n",
    "                #+1 whenver entire candidate occurs within the given transaction\n",
    "                if searchInT(t,candidate):\n",
    "                    freqDict[tuple(candidate)] = freqDict.get(tuple(candidate),0) + 1 #agar koi candidate ke sabhi item given transaction me hue to +1 ho jayega freqDict[tuple(candidate)] ka\n",
    "        print(\"freqDict\")\n",
    "        print(freqDict)\n",
    "        f = []\n",
    "        for c in freqDict.keys():\n",
    "            if freqDict[c]/len(T)>= minSup:# /len(T) because formula for support is freq(candidate)/no. of total transactions. freq from freqDict calculated above\n",
    "                f.append(list(c))\n",
    "\n",
    "        print(\"f\")\n",
    "        print(f)\n",
    "        if len(f) != 0:\n",
    "            f = sorted(f,key=lambda x : (len(x),*x))\n",
    "            for item in f:\n",
    "                finalSet.append(item)\n",
    "    # print(finalSet)\n",
    "    return finalSet\n",
    "T = [\n",
    "    ['1', '3', '4'],\n",
    "    ['2', '3', '5'],\n",
    "    ['1', '2', '3', '5'],\n",
    "    ['1','2','5']\n",
    "    ] \n",
    "\n",
    "print(apriori(T,0.5))"
   ]
  },
  {
   "cell_type": "code",
   "execution_count": 54,
   "metadata": {},
   "outputs": [
    {
     "name": "stdout",
     "output_type": "stream",
     "text": [
      "Ck\n",
      "[['Beer', 'Bread'], ['Beer', 'Coke'], ['Beer', 'Diapers'], ['Beer', 'Milk'], ['Bread', 'Coke'], ['Bread', 'Diapers'], ['Bread', 'Milk'], ['Coke', 'Diapers'], ['Coke', 'Milk'], ['Diapers', 'Milk']]\n",
      "Ck\n",
      "[['Beer', 'Bread', 'Diapers'], ['Beer', 'Bread', 'Milk'], ['Beer', 'Diapers', 'Milk'], ['Bread', 'Diapers', 'Milk'], ['Coke', 'Diapers', 'Milk']]\n",
      "Ck\n",
      "[]\n",
      "\n",
      "[['Beer'], ['Bread'], ['Coke'], ['Diapers'], ['Milk'], ['Beer', 'Bread'], ['Beer', 'Diapers'], ['Beer', 'Milk'], ['Bread', 'Diapers'], ['Bread', 'Milk'], ['Coke', 'Diapers'], ['Coke', 'Milk'], ['Diapers', 'Milk'], ['Beer', 'Bread', 'Diapers'], ['Beer', 'Diapers', 'Milk'], ['Bread', 'Diapers', 'Milk'], ['Coke', 'Diapers', 'Milk']]\n"
     ]
    }
   ],
   "source": [
    "T2=[['Bread', 'Milk'], \n",
    "            ['Bread', 'Diapers', 'Beer', 'Eggs'], \n",
    "            ['Milk', 'Diapers', 'Beer', 'Coke'], \n",
    "            ['Bread', 'Milk', 'Diapers', 'Beer'], \n",
    "            ['Bread', 'Milk', 'Diapers', 'Coke']]\n",
    "F=apriori(T2,0.3)\n",
    "print()\n",
    "print(F)"
   ]
  },
  {
   "cell_type": "code",
   "execution_count": 18,
   "metadata": {},
   "outputs": [],
   "source": [
    "T3 = [\n",
    "    ['beer', 'wine', 'cheese'],\n",
    "    ['beer', 'potato chips'],\n",
    "    ['eggs', 'flower', 'butter', 'cheese'],\n",
    "    ['eggs', 'flower', 'butter', 'beer', 'potato chips'],\n",
    "    ['wine', 'cheese'],\n",
    "    ['potato chips'],\n",
    "    ['eggs', 'flower', 'butter', 'wine', 'cheese'],\n",
    "    ['eggs', 'flower', 'butter', 'beer', 'potato chips'],\n",
    "    ['wine', 'beer'],\n",
    "    ['beer', 'potato chips'],\n",
    "    ['butter', 'eggs'],\n",
    "    ['beer', 'potato chips'],\n",
    "    ['flower', 'eggs'],\n",
    "    ['beer', 'potato chips'],\n",
    "    ['eggs', 'flower', 'butter', 'wine', 'cheese'],\n",
    "    ['beer', 'wine', 'potato chips', 'cheese'],\n",
    "    ['wine', 'cheese'],\n",
    "    ['beer', 'potato chips'],\n",
    "    ['wine', 'cheese'],\n",
    "    ['beer', 'potato chips']\n",
    "]"
   ]
  },
  {
   "cell_type": "code",
   "execution_count": 19,
   "metadata": {},
   "outputs": [
    {
     "name": "stdout",
     "output_type": "stream",
     "text": [
      "[['beer'], ['butter'], ['cheese'], ['eggs'], ['flower'], ['potato chips'], ['wine'], ['beer', 'potato chips'], ['butter', 'eggs'], ['cheese', 'wine'], ['eggs', 'flower']]\n"
     ]
    }
   ],
   "source": [
    "F=apriori(T3,0.3)\n",
    "print(F)"
   ]
  },
  {
   "cell_type": "code",
   "execution_count": 20,
   "metadata": {},
   "outputs": [],
   "source": [
    "#!pip install pyECLAT"
   ]
  },
  {
   "cell_type": "code",
   "execution_count": 21,
   "metadata": {},
   "outputs": [
    {
     "data": {
      "text/html": [
       "<div>\n",
       "<style scoped>\n",
       "    .dataframe tbody tr th:only-of-type {\n",
       "        vertical-align: middle;\n",
       "    }\n",
       "\n",
       "    .dataframe tbody tr th {\n",
       "        vertical-align: top;\n",
       "    }\n",
       "\n",
       "    .dataframe thead th {\n",
       "        text-align: right;\n",
       "    }\n",
       "</style>\n",
       "<table border=\"1\" class=\"dataframe\">\n",
       "  <thead>\n",
       "    <tr style=\"text-align: right;\">\n",
       "      <th></th>\n",
       "      <th>0</th>\n",
       "      <th>1</th>\n",
       "      <th>2</th>\n",
       "      <th>3</th>\n",
       "      <th>4</th>\n",
       "    </tr>\n",
       "  </thead>\n",
       "  <tbody>\n",
       "    <tr>\n",
       "      <th>0</th>\n",
       "      <td>beer</td>\n",
       "      <td>wine</td>\n",
       "      <td>cheese</td>\n",
       "      <td>None</td>\n",
       "      <td>None</td>\n",
       "    </tr>\n",
       "    <tr>\n",
       "      <th>1</th>\n",
       "      <td>beer</td>\n",
       "      <td>potato chips</td>\n",
       "      <td>None</td>\n",
       "      <td>None</td>\n",
       "      <td>None</td>\n",
       "    </tr>\n",
       "    <tr>\n",
       "      <th>2</th>\n",
       "      <td>eggs</td>\n",
       "      <td>flower</td>\n",
       "      <td>butter</td>\n",
       "      <td>cheese</td>\n",
       "      <td>None</td>\n",
       "    </tr>\n",
       "    <tr>\n",
       "      <th>3</th>\n",
       "      <td>eggs</td>\n",
       "      <td>flower</td>\n",
       "      <td>butter</td>\n",
       "      <td>beer</td>\n",
       "      <td>potato chips</td>\n",
       "    </tr>\n",
       "    <tr>\n",
       "      <th>4</th>\n",
       "      <td>wine</td>\n",
       "      <td>cheese</td>\n",
       "      <td>None</td>\n",
       "      <td>None</td>\n",
       "      <td>None</td>\n",
       "    </tr>\n",
       "    <tr>\n",
       "      <th>5</th>\n",
       "      <td>potato chips</td>\n",
       "      <td>None</td>\n",
       "      <td>None</td>\n",
       "      <td>None</td>\n",
       "      <td>None</td>\n",
       "    </tr>\n",
       "    <tr>\n",
       "      <th>6</th>\n",
       "      <td>eggs</td>\n",
       "      <td>flower</td>\n",
       "      <td>butter</td>\n",
       "      <td>wine</td>\n",
       "      <td>cheese</td>\n",
       "    </tr>\n",
       "    <tr>\n",
       "      <th>7</th>\n",
       "      <td>eggs</td>\n",
       "      <td>flower</td>\n",
       "      <td>butter</td>\n",
       "      <td>beer</td>\n",
       "      <td>potato chips</td>\n",
       "    </tr>\n",
       "    <tr>\n",
       "      <th>8</th>\n",
       "      <td>wine</td>\n",
       "      <td>beer</td>\n",
       "      <td>None</td>\n",
       "      <td>None</td>\n",
       "      <td>None</td>\n",
       "    </tr>\n",
       "    <tr>\n",
       "      <th>9</th>\n",
       "      <td>beer</td>\n",
       "      <td>potato chips</td>\n",
       "      <td>None</td>\n",
       "      <td>None</td>\n",
       "      <td>None</td>\n",
       "    </tr>\n",
       "    <tr>\n",
       "      <th>10</th>\n",
       "      <td>butter</td>\n",
       "      <td>eggs</td>\n",
       "      <td>None</td>\n",
       "      <td>None</td>\n",
       "      <td>None</td>\n",
       "    </tr>\n",
       "    <tr>\n",
       "      <th>11</th>\n",
       "      <td>beer</td>\n",
       "      <td>potato chips</td>\n",
       "      <td>None</td>\n",
       "      <td>None</td>\n",
       "      <td>None</td>\n",
       "    </tr>\n",
       "    <tr>\n",
       "      <th>12</th>\n",
       "      <td>flower</td>\n",
       "      <td>eggs</td>\n",
       "      <td>None</td>\n",
       "      <td>None</td>\n",
       "      <td>None</td>\n",
       "    </tr>\n",
       "    <tr>\n",
       "      <th>13</th>\n",
       "      <td>beer</td>\n",
       "      <td>potato chips</td>\n",
       "      <td>None</td>\n",
       "      <td>None</td>\n",
       "      <td>None</td>\n",
       "    </tr>\n",
       "    <tr>\n",
       "      <th>14</th>\n",
       "      <td>eggs</td>\n",
       "      <td>flower</td>\n",
       "      <td>butter</td>\n",
       "      <td>wine</td>\n",
       "      <td>cheese</td>\n",
       "    </tr>\n",
       "    <tr>\n",
       "      <th>15</th>\n",
       "      <td>beer</td>\n",
       "      <td>wine</td>\n",
       "      <td>potato chips</td>\n",
       "      <td>cheese</td>\n",
       "      <td>None</td>\n",
       "    </tr>\n",
       "    <tr>\n",
       "      <th>16</th>\n",
       "      <td>wine</td>\n",
       "      <td>cheese</td>\n",
       "      <td>None</td>\n",
       "      <td>None</td>\n",
       "      <td>None</td>\n",
       "    </tr>\n",
       "    <tr>\n",
       "      <th>17</th>\n",
       "      <td>beer</td>\n",
       "      <td>potato chips</td>\n",
       "      <td>None</td>\n",
       "      <td>None</td>\n",
       "      <td>None</td>\n",
       "    </tr>\n",
       "    <tr>\n",
       "      <th>18</th>\n",
       "      <td>wine</td>\n",
       "      <td>cheese</td>\n",
       "      <td>None</td>\n",
       "      <td>None</td>\n",
       "      <td>None</td>\n",
       "    </tr>\n",
       "    <tr>\n",
       "      <th>19</th>\n",
       "      <td>beer</td>\n",
       "      <td>potato chips</td>\n",
       "      <td>None</td>\n",
       "      <td>None</td>\n",
       "      <td>None</td>\n",
       "    </tr>\n",
       "  </tbody>\n",
       "</table>\n",
       "</div>"
      ],
      "text/plain": [
       "               0             1             2       3             4\n",
       "0           beer          wine        cheese    None          None\n",
       "1           beer  potato chips          None    None          None\n",
       "2           eggs        flower        butter  cheese          None\n",
       "3           eggs        flower        butter    beer  potato chips\n",
       "4           wine        cheese          None    None          None\n",
       "5   potato chips          None          None    None          None\n",
       "6           eggs        flower        butter    wine        cheese\n",
       "7           eggs        flower        butter    beer  potato chips\n",
       "8           wine          beer          None    None          None\n",
       "9           beer  potato chips          None    None          None\n",
       "10        butter          eggs          None    None          None\n",
       "11          beer  potato chips          None    None          None\n",
       "12        flower          eggs          None    None          None\n",
       "13          beer  potato chips          None    None          None\n",
       "14          eggs        flower        butter    wine        cheese\n",
       "15          beer          wine  potato chips  cheese          None\n",
       "16          wine        cheese          None    None          None\n",
       "17          beer  potato chips          None    None          None\n",
       "18          wine        cheese          None    None          None\n",
       "19          beer  potato chips          None    None          None"
      ]
     },
     "execution_count": 21,
     "metadata": {},
     "output_type": "execute_result"
    }
   ],
   "source": [
    "import pandas as pd\n",
    "\n",
    "# you simply convert the transaction list into a dataframe\n",
    "data = pd.DataFrame(T3)\n",
    "data"
   ]
  },
  {
   "cell_type": "code",
   "execution_count": 22,
   "metadata": {},
   "outputs": [],
   "source": [
    "# we are looking for itemSETS\n",
    "# we do not want to have any individual products returned\n",
    "min_n_products = 2\n",
    "\n",
    "# we want to set min support to 7\n",
    "# but we have to express it as a percentage\n",
    "min_support = 7/len(T3)\n",
    "\n",
    "# we have no limit on the size of association rules\n",
    "# so we set it to the longest transaction\n",
    "max_length = max([len(x) for x in T3])"
   ]
  },
  {
   "cell_type": "code",
   "execution_count": 24,
   "metadata": {},
   "outputs": [
    {
     "name": "stderr",
     "output_type": "stream",
     "text": [
      "100%|██████████| 8/8 [00:00<00:00, 666.70it/s]\n",
      "100%|██████████| 8/8 [00:00<?, ?it/s]\n",
      "100%|██████████| 8/8 [00:00<00:00, 1142.90it/s]\n"
     ]
    },
    {
     "name": "stdout",
     "output_type": "stream",
     "text": [
      "Combination 2 by 2\n"
     ]
    },
    {
     "name": "stderr",
     "output_type": "stream",
     "text": [
      "10it [00:00, 307.57it/s]\n"
     ]
    },
    {
     "name": "stdout",
     "output_type": "stream",
     "text": [
      "Combination 3 by 3\n"
     ]
    },
    {
     "name": "stderr",
     "output_type": "stream",
     "text": [
      "10it [00:00, 588.28it/s]\n"
     ]
    },
    {
     "name": "stdout",
     "output_type": "stream",
     "text": [
      "Combination 4 by 4\n"
     ]
    },
    {
     "name": "stderr",
     "output_type": "stream",
     "text": [
      "5it [00:00, 454.59it/s]\n"
     ]
    },
    {
     "name": "stdout",
     "output_type": "stream",
     "text": [
      "Combination 5 by 5\n"
     ]
    },
    {
     "name": "stderr",
     "output_type": "stream",
     "text": [
      "1it [00:00, 250.14it/s]\n"
     ]
    }
   ],
   "source": [
    "from pyECLAT import ECLAT\n",
    "\n",
    "# create an instance of eclat\n",
    "my_eclat = ECLAT(data=data, verbose=True)\n",
    "\n",
    "# fit the algorithm\n",
    "rule_indices, rule_supports = my_eclat.fit(min_support=min_support,\n",
    "                                           min_combination=min_n_products,\n",
    "                                           max_combination=max_length)"
   ]
  },
  {
   "cell_type": "code",
   "execution_count": null,
   "metadata": {},
   "outputs": [
    {
     "name": "stdout",
     "output_type": "stream",
     "text": [
      "{'wine & cheese': 0.35, 'beer & potato chips': 0.45}\n"
     ]
    }
   ],
   "source": [
    "print(rule_supports)"
   ]
  },
  {
   "cell_type": "code",
   "execution_count": null,
   "metadata": {},
   "outputs": [],
   "source": []
  }
 ],
 "metadata": {
  "kernelspec": {
   "display_name": "Python 3",
   "language": "python",
   "name": "python3"
  },
  "language_info": {
   "codemirror_mode": {
    "name": "ipython",
    "version": 3
   },
   "file_extension": ".py",
   "mimetype": "text/x-python",
   "name": "python",
   "nbconvert_exporter": "python",
   "pygments_lexer": "ipython3",
   "version": "3.12.2"
  }
 },
 "nbformat": 4,
 "nbformat_minor": 2
}
