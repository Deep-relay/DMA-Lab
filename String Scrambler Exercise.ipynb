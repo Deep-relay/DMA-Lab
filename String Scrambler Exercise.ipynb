{
  "cells": [
    {
      "cell_type": "code",
      "source": [
        "import random"
      ],
      "metadata": {
        "id": "iR8aDEFjez3b"
      },
      "execution_count": 21,
      "outputs": []
    },
    {
      "cell_type": "code",
      "source": [
        "def process(s:str):\n",
        "    def get(s:str, i:int):\n",
        "        if not s[i].isalpha() or (i==0 or i==len(s)-1):\n",
        "            return s[i]\n",
        "        else:\n",
        "            return ''\n",
        "    temp=['' for i in s]\n",
        "    left=[]\n",
        "    for i in range(len(s)):\n",
        "        temp[i]=get(s,i)\n",
        "        if temp[i]=='':\n",
        "            left.append(s[i])\n",
        "    left=random.sample(left, len(left))\n",
        "    i=0\n",
        "    for w in left:\n",
        "      while temp[i]!='':\n",
        "        i+=1\n",
        "      temp[i]=w\n",
        "      i+=1\n",
        "    return ''.join(temp)"
      ],
      "metadata": {
        "id": "bQraLYHce2Xr"
      },
      "execution_count": 22,
      "outputs": []
    },
    {
      "cell_type": "code",
      "source": [
        "def scrambleString(s:str):\n",
        "  words=s.split(' ')\n",
        "  result=''\n",
        "  for word in words:\n",
        "      result=result+process(word)+' '\n",
        "  return result"
      ],
      "metadata": {
        "id": "DklmH1BIe4Ze"
      },
      "execution_count": 23,
      "outputs": []
    },
    {
      "cell_type": "code",
      "execution_count": 20,
      "metadata": {
        "colab": {
          "base_uri": "https://localhost:8080/"
        },
        "id": "S8Hksi4AZa_z",
        "outputId": "6b1be6d4-2680-48f7-d179-6c97f806585e"
      },
      "outputs": [
        {
          "output_type": "stream",
          "name": "stdout",
          "text": [
            "Enter the string: w,o,w,aao,doo,dd  a,a,sodwdgdhi,,,qhk, \n",
            "w,o,o,oad,daw,od  a,q,iswadhhdg,,,kod,  \n"
          ]
        }
      ],
      "source": [
        "s=input('Enter the string: ')\n",
        "print(scrambleString(s))\n"
      ]
    }
  ],
  "metadata": {
    "kernelspec": {
      "display_name": "Python 3",
      "language": "python",
      "name": "python3"
    },
    "language_info": {
      "codemirror_mode": {
        "name": "ipython",
        "version": 3
      },
      "file_extension": ".py",
      "mimetype": "text/x-python",
      "name": "python",
      "nbconvert_exporter": "python",
      "pygments_lexer": "ipython3",
      "version": "3.12.2"
    },
    "colab": {
      "provenance": []
    }
  },
  "nbformat": 4,
  "nbformat_minor": 0
}