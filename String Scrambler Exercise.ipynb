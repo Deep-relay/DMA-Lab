{
  "cells": [
    {
      "cell_type": "markdown",
      "metadata": {
        "id": "view-in-github",
        "colab_type": "text"
      },
      "source": [
        "<a href=\"https://colab.research.google.com/github/Deep-relay/DMA-Lab/blob/main/String%20Scrambler%20Exercise.ipynb\" target=\"_parent\"><img src=\"https://colab.research.google.com/assets/colab-badge.svg\" alt=\"Open In Colab\"/></a>"
      ]
    },
    {
      "cell_type": "code",
      "execution_count": 16,
      "metadata": {
        "id": "S8Hksi4AZa_z",
        "outputId": "4f682f42-f620-4719-cca0-1ff6215aace1",
        "colab": {
          "base_uri": "https://localhost:8080/"
        }
      },
      "outputs": [
        {
          "output_type": "stream",
          "name": "stdout",
          "text": [
            "Enter the stringw,o,o,dow,doa,ad  a,w,dkihqodhg,,,asd,\n",
            "w,w,a,aoo,dod,od  a,s,gqhakdhiw,,,ddo, \n"
          ]
        }
      ],
      "source": [
        "import random\n",
        "def process(s:str):\n",
        "    def get(s:str, i:int):\n",
        "        if not s[i].isalpha() or (i==0 or i==len(s)-1):\n",
        "            return s[i]\n",
        "        else:\n",
        "            return ''\n",
        "    temp=['' for i in s]\n",
        "    left=[]\n",
        "    for i in range(len(s)):\n",
        "        temp[i]=get(s,i)\n",
        "        if temp[i]=='':\n",
        "            left.append(s[i])\n",
        "    left=random.sample(left, len(left))\n",
        "    i=0\n",
        "    for w in left:\n",
        "      while temp[i]!='':\n",
        "        i+=1\n",
        "      temp[i]=w\n",
        "      i+=1\n",
        "    return ''.join(temp)\n",
        "def scrambleString(s:str):\n",
        "  words=s.split(' ')\n",
        "  result=''\n",
        "  for word in words:\n",
        "      result=result+process(word)+' '\n",
        "  return result\n",
        "s=input('Enter the string')\n",
        "print(scrambleString(s))\n"
      ]
    }
  ],
  "metadata": {
    "kernelspec": {
      "display_name": "Python 3",
      "language": "python",
      "name": "python3"
    },
    "language_info": {
      "codemirror_mode": {
        "name": "ipython",
        "version": 3
      },
      "file_extension": ".py",
      "mimetype": "text/x-python",
      "name": "python",
      "nbconvert_exporter": "python",
      "pygments_lexer": "ipython3",
      "version": "3.12.2"
    },
    "colab": {
      "provenance": [],
      "include_colab_link": true
    }
  },
  "nbformat": 4,
  "nbformat_minor": 0
}