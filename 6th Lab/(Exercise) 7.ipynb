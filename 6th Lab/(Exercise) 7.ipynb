{
 "cells": [
  {
   "cell_type": "code",
   "execution_count": 2,
   "metadata": {},
   "outputs": [],
   "source": [
    "import pandas\n",
    "import numpy as np"
   ]
  },
  {
   "cell_type": "markdown",
   "metadata": {},
   "source": [
    "#### 1. Read NIRF data as given in Dataset tab on Google Classroom."
   ]
  },
  {
   "cell_type": "code",
   "execution_count": null,
   "metadata": {},
   "outputs": [
    {
     "name": "stdout",
     "output_type": "stream",
     "text": [
      "0                  Indian Institute of Technology Madras\n",
      "1                   Indian Institute of Technology Delhi\n",
      "2                  Indian Institute of Technology Bombay\n",
      "3                  Indian Institute of Technology Kanpur\n",
      "4               Indian Institute of Technology Kharagpur\n",
      "                             ...                        \n",
      "195              Dr. D. Y. Patil Institute of Technology\n",
      "196              Pimpri Chinchwad College of Engineering\n",
      "197                  Ramrao Adik Institute of Technology\n",
      "198                                      BVRIT Hyderabad\n",
      "199    National Institute of Technology Arunachal Pra...\n",
      "Name: name, Length: 200, dtype: object\n"
     ]
    }
   ],
   "source": [
    "data=pandas.read_csv('./NIRF Dataset.csv')"
   ]
  },
  {
   "cell_type": "markdown",
   "metadata": {},
   "source": [
    "#### 2. Group the data statewise and Count the number of colleges in each state."
   ]
  },
  {
   "cell_type": "code",
   "execution_count": 55,
   "metadata": {},
   "outputs": [
    {
     "data": {
      "text/plain": [
       "state\n",
       "Andhra Pradesh       10\n",
       "Arunachal Pradesh     2\n",
       "Assam                 3\n",
       "Bihar                 2\n",
       "Chandigarh            2\n",
       "Chhattisgarh          1\n",
       "Delhi                 7\n",
       "Goa                   1\n",
       "Gujarat               7\n",
       "Haryana               6\n",
       "Himachal Pradesh      4\n",
       "Jammu and Kashmir     1\n",
       "Jharkhand             4\n",
       "Karnataka            21\n",
       "Kerala                5\n",
       "Madhya Pradesh        5\n",
       "Maharashtra          22\n",
       "Manipur               1\n",
       "Meghalaya             1\n",
       "Odisha                7\n",
       "Pondicherry           2\n",
       "Punjab                8\n",
       "Rajasthan             4\n",
       "Tamil Nadu           35\n",
       "Telangana            15\n",
       "Tripura               1\n",
       "Uttar Pradesh        11\n",
       "Uttarakhand           4\n",
       "West Bengal           8\n",
       "dtype: int64"
      ]
     },
     "metadata": {},
     "output_type": "display_data"
    }
   ],
   "source": [
    "data_grouped_by_state=data.groupby(by='state').size()\n",
    "# for state, entry in data_grouped_by_state:\n",
    "#     print(state, entry)\n",
    "display(data_grouped_by_state)"
   ]
  },
  {
   "cell_type": "markdown",
   "metadata": {},
   "source": [
    "#### 3. Sort the records based on rpc attribute (Research Professional practices)."
   ]
  },
  {
   "cell_type": "code",
   "execution_count": 66,
   "metadata": {},
   "outputs": [
    {
     "data": {
      "text/html": [
       "<div>\n",
       "<style scoped>\n",
       "    .dataframe tbody tr th:only-of-type {\n",
       "        vertical-align: middle;\n",
       "    }\n",
       "\n",
       "    .dataframe tbody tr th {\n",
       "        vertical-align: top;\n",
       "    }\n",
       "\n",
       "    .dataframe thead th {\n",
       "        text-align: right;\n",
       "    }\n",
       "</style>\n",
       "<table border=\"1\" class=\"dataframe\">\n",
       "  <thead>\n",
       "    <tr style=\"text-align: right;\">\n",
       "      <th></th>\n",
       "      <th>rank</th>\n",
       "      <th>rpc</th>\n",
       "      <th>name</th>\n",
       "    </tr>\n",
       "  </thead>\n",
       "  <tbody>\n",
       "    <tr>\n",
       "      <th>1</th>\n",
       "      <td>1.0</td>\n",
       "      <td>96.15</td>\n",
       "      <td>Indian Institute of Technology Delhi</td>\n",
       "    </tr>\n",
       "    <tr>\n",
       "      <th>0</th>\n",
       "      <td>2.0</td>\n",
       "      <td>94.64</td>\n",
       "      <td>Indian Institute of Technology Madras</td>\n",
       "    </tr>\n",
       "    <tr>\n",
       "      <th>2</th>\n",
       "      <td>3.0</td>\n",
       "      <td>93.37</td>\n",
       "      <td>Indian Institute of Technology Bombay</td>\n",
       "    </tr>\n",
       "    <tr>\n",
       "      <th>4</th>\n",
       "      <td>4.0</td>\n",
       "      <td>87.11</td>\n",
       "      <td>Indian Institute of Technology Kharagpur</td>\n",
       "    </tr>\n",
       "    <tr>\n",
       "      <th>3</th>\n",
       "      <td>5.0</td>\n",
       "      <td>82.08</td>\n",
       "      <td>Indian Institute of Technology Kanpur</td>\n",
       "    </tr>\n",
       "    <tr>\n",
       "      <th>...</th>\n",
       "      <td>...</td>\n",
       "      <td>...</td>\n",
       "      <td>...</td>\n",
       "    </tr>\n",
       "    <tr>\n",
       "      <th>189</th>\n",
       "      <td>196.0</td>\n",
       "      <td>1.15</td>\n",
       "      <td>G.Pulla Reddy Engineering College</td>\n",
       "    </tr>\n",
       "    <tr>\n",
       "      <th>185</th>\n",
       "      <td>197.0</td>\n",
       "      <td>1.11</td>\n",
       "      <td>BNM Institute of Technology</td>\n",
       "    </tr>\n",
       "    <tr>\n",
       "      <th>186</th>\n",
       "      <td>198.0</td>\n",
       "      <td>0.75</td>\n",
       "      <td>Vasavi College of Engineering</td>\n",
       "    </tr>\n",
       "    <tr>\n",
       "      <th>146</th>\n",
       "      <td>199.0</td>\n",
       "      <td>0.71</td>\n",
       "      <td>P E S College of Engineering</td>\n",
       "    </tr>\n",
       "    <tr>\n",
       "      <th>198</th>\n",
       "      <td>200.0</td>\n",
       "      <td>0.46</td>\n",
       "      <td>BVRIT Hyderabad</td>\n",
       "    </tr>\n",
       "  </tbody>\n",
       "</table>\n",
       "<p>200 rows × 3 columns</p>\n",
       "</div>"
      ],
      "text/plain": [
       "      rank    rpc                                      name\n",
       "1      1.0  96.15      Indian Institute of Technology Delhi\n",
       "0      2.0  94.64     Indian Institute of Technology Madras\n",
       "2      3.0  93.37     Indian Institute of Technology Bombay\n",
       "4      4.0  87.11  Indian Institute of Technology Kharagpur\n",
       "3      5.0  82.08     Indian Institute of Technology Kanpur\n",
       "..     ...    ...                                       ...\n",
       "189  196.0   1.15         G.Pulla Reddy Engineering College\n",
       "185  197.0   1.11               BNM Institute of Technology\n",
       "186  198.0   0.75             Vasavi College of Engineering\n",
       "146  199.0   0.71              P E S College of Engineering\n",
       "198  200.0   0.46                           BVRIT Hyderabad\n",
       "\n",
       "[200 rows x 3 columns]"
      ]
     },
     "metadata": {},
     "output_type": "display_data"
    }
   ],
   "source": [
    "data_sorted_by_rpc=data.sort_values(by='rpc', ascending=False)\n",
    "# display(data.sort_values(by='rpc', ascending=False)[['rpc', 'name']])\n",
    "data_sorted_by_rpc['rank']=data_sorted_by_rpc['rpc'].rank(method='min', ascending=False)\n",
    "display(data_sorted_by_rpc[['rank', 'rpc', 'name']])"
   ]
  },
  {
   "cell_type": "markdown",
   "metadata": {},
   "source": [
    "#### 4. Find the rank of Panjab University as per rpc attribute."
   ]
  },
  {
   "cell_type": "code",
   "execution_count": 78,
   "metadata": {},
   "outputs": [
    {
     "name": "stdout",
     "output_type": "stream",
     "text": [
      "26.0\n"
     ]
    },
    {
     "data": {
      "text/html": [
       "<div>\n",
       "<style scoped>\n",
       "    .dataframe tbody tr th:only-of-type {\n",
       "        vertical-align: middle;\n",
       "    }\n",
       "\n",
       "    .dataframe tbody tr th {\n",
       "        vertical-align: top;\n",
       "    }\n",
       "\n",
       "    .dataframe thead th {\n",
       "        text-align: right;\n",
       "    }\n",
       "</style>\n",
       "<table border=\"1\" class=\"dataframe\">\n",
       "  <thead>\n",
       "    <tr style=\"text-align: right;\">\n",
       "      <th></th>\n",
       "      <th>rank</th>\n",
       "      <th>rpc</th>\n",
       "      <th>name</th>\n",
       "    </tr>\n",
       "  </thead>\n",
       "  <tbody>\n",
       "    <tr>\n",
       "      <th>71</th>\n",
       "      <td>26.0</td>\n",
       "      <td>43.55</td>\n",
       "      <td>Panjab University</td>\n",
       "    </tr>\n",
       "  </tbody>\n",
       "</table>\n",
       "</div>"
      ],
      "text/plain": [
       "    rank    rpc               name\n",
       "71  26.0  43.55  Panjab University"
      ]
     },
     "metadata": {},
     "output_type": "display_data"
    }
   ],
   "source": [
    "panjab_university_rank=data_sorted_by_rpc[data_sorted_by_rpc['name']=='Panjab University']['rank'].iloc[0]\n",
    "print(panjab_university_rank)\n",
    "display(data_sorted_by_rpc[data_sorted_by_rpc['name']=='Panjab University'][['rank', 'rpc', 'name']])"
   ]
  },
  {
   "cell_type": "markdown",
   "metadata": {},
   "source": [
    "#### 5. List the colleges whose rpc value is less than Panjab University and rank is higher(rank value is less)."
   ]
  },
  {
   "cell_type": "code",
   "execution_count": 84,
   "metadata": {},
   "outputs": [
    {
     "data": {
      "text/html": [
       "<div>\n",
       "<style scoped>\n",
       "    .dataframe tbody tr th:only-of-type {\n",
       "        vertical-align: middle;\n",
       "    }\n",
       "\n",
       "    .dataframe tbody tr th {\n",
       "        vertical-align: top;\n",
       "    }\n",
       "\n",
       "    .dataframe thead th {\n",
       "        text-align: right;\n",
       "    }\n",
       "</style>\n",
       "<table border=\"1\" class=\"dataframe\">\n",
       "  <thead>\n",
       "    <tr style=\"text-align: right;\">\n",
       "      <th></th>\n",
       "      <th>name</th>\n",
       "      <th>rank</th>\n",
       "      <th>rpc</th>\n",
       "    </tr>\n",
       "  </thead>\n",
       "  <tbody>\n",
       "    <tr>\n",
       "      <th>40</th>\n",
       "      <td>S. R. M. Institute of Science and Technology</td>\n",
       "      <td>27.0</td>\n",
       "      <td>41.96</td>\n",
       "    </tr>\n",
       "    <tr>\n",
       "      <th>34</th>\n",
       "      <td>Malaviya National Institute of Technology</td>\n",
       "      <td>28.0</td>\n",
       "      <td>41.69</td>\n",
       "    </tr>\n",
       "    <tr>\n",
       "      <th>39</th>\n",
       "      <td>National Institute of Technology Kurukshetra</td>\n",
       "      <td>29.0</td>\n",
       "      <td>41.64</td>\n",
       "    </tr>\n",
       "    <tr>\n",
       "      <th>25</th>\n",
       "      <td>Indian Institute of Technology Patna</td>\n",
       "      <td>30.0</td>\n",
       "      <td>39.24</td>\n",
       "    </tr>\n",
       "    <tr>\n",
       "      <th>18</th>\n",
       "      <td>National Institute of Technology Warangal</td>\n",
       "      <td>31.0</td>\n",
       "      <td>38.12</td>\n",
       "    </tr>\n",
       "    <tr>\n",
       "      <th>...</th>\n",
       "      <td>...</td>\n",
       "      <td>...</td>\n",
       "      <td>...</td>\n",
       "    </tr>\n",
       "    <tr>\n",
       "      <th>189</th>\n",
       "      <td>G.Pulla Reddy Engineering College</td>\n",
       "      <td>196.0</td>\n",
       "      <td>1.15</td>\n",
       "    </tr>\n",
       "    <tr>\n",
       "      <th>185</th>\n",
       "      <td>BNM Institute of Technology</td>\n",
       "      <td>197.0</td>\n",
       "      <td>1.11</td>\n",
       "    </tr>\n",
       "    <tr>\n",
       "      <th>186</th>\n",
       "      <td>Vasavi College of Engineering</td>\n",
       "      <td>198.0</td>\n",
       "      <td>0.75</td>\n",
       "    </tr>\n",
       "    <tr>\n",
       "      <th>146</th>\n",
       "      <td>P E S College of Engineering</td>\n",
       "      <td>199.0</td>\n",
       "      <td>0.71</td>\n",
       "    </tr>\n",
       "    <tr>\n",
       "      <th>198</th>\n",
       "      <td>BVRIT Hyderabad</td>\n",
       "      <td>200.0</td>\n",
       "      <td>0.46</td>\n",
       "    </tr>\n",
       "  </tbody>\n",
       "</table>\n",
       "<p>174 rows × 3 columns</p>\n",
       "</div>"
      ],
      "text/plain": [
       "                                             name   rank    rpc\n",
       "40   S. R. M. Institute of Science and Technology   27.0  41.96\n",
       "34      Malaviya National Institute of Technology   28.0  41.69\n",
       "39   National Institute of Technology Kurukshetra   29.0  41.64\n",
       "25           Indian Institute of Technology Patna   30.0  39.24\n",
       "18      National Institute of Technology Warangal   31.0  38.12\n",
       "..                                            ...    ...    ...\n",
       "189             G.Pulla Reddy Engineering College  196.0   1.15\n",
       "185                   BNM Institute of Technology  197.0   1.11\n",
       "186                 Vasavi College of Engineering  198.0   0.75\n",
       "146                  P E S College of Engineering  199.0   0.71\n",
       "198                               BVRIT Hyderabad  200.0   0.46\n",
       "\n",
       "[174 rows x 3 columns]"
      ]
     },
     "metadata": {},
     "output_type": "display_data"
    }
   ],
   "source": [
    "display(data_sorted_by_rpc[data_sorted_by_rpc['rank']>panjab_university_rank][['name', 'rank', 'rpc']])"
   ]
  },
  {
   "cell_type": "markdown",
   "metadata": {},
   "source": [
    "#### 6. Draw the Histogram for colleges based on tlr values by dividing the overall data in 10 bins."
   ]
  },
  {
   "cell_type": "code",
   "execution_count": 86,
   "metadata": {},
   "outputs": [
    {
     "data": {
      "text/plain": [
       "Text(0.5, 1.0, 'Histogram of Colleges Based on TLR Scores')"
      ]
     },
     "execution_count": 86,
     "metadata": {},
     "output_type": "execute_result"
    },
    {
     "data": {
      "image/png": "[encoded data removed]",
      "text/plain": [
       "<Figure size 800x500 with 1 Axes>"
      ]
     },
     "metadata": {},
     "output_type": "display_data"
    }
   ],
   "source": [
    "import matplotlib.pyplot as plt \n",
    "%matplotlib inline\n",
    "\n",
    "plt.figure(figsize=(8, 5))\n",
    "plt.hist(data[\"tlr\"], bins=10, edgecolor='black', alpha=0.7)\n",
    "plt.xlabel(\"Teaching, Learning & Resources (TLR) Score\")\n",
    "plt.ylabel(\"Number of Colleges\")\n",
    "plt.title(\"Histogram of Colleges Based on TLR Scores\")\n"
   ]
  }
 ],
 "metadata": {
  "kernelspec": {
   "display_name": "Python 3",
   "language": "python",
   "name": "python3"
  },
  "language_info": {
   "codemirror_mode": {
    "name": "ipython",
    "version": 3
   },
   "file_extension": ".py",
   "mimetype": "text/x-python",
   "name": "python",
   "nbconvert_exporter": "python",
   "pygments_lexer": "ipython3",
   "version": "3.12.2"
  }
 },
 "nbformat": 4,
 "nbformat_minor": 2
}
