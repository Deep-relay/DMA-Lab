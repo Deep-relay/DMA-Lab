{
  "cells": [
    {
      "cell_type": "code",
      "execution_count": 6,
      "metadata": {
        "id": "wXPpDbnnBbmK"
      },
      "outputs": [],
      "source": [
        "import numpy as np"
      ]
    },
    {
      "cell_type": "markdown",
      "metadata": {
        "id": "yR8hHlQPBiLD"
      },
      "source": [
        "Create one hot encoding of an array. For example For an array([2, 3, 2, 2, 2, 1]) Output should be\n",
        "   array\n",
        "  \n",
        "             [ 0.,  1.,  0.],         \n",
        "             [ 0.,  0.,  1.],\n",
        "             [ 0.,  1.,  0.],\n",
        "             [ 0.,  1.,  0.],\n",
        "             [ 0.,  1.,  0.],\n",
        "            [ 1.,  0.,  0.]\n",
        "            \n",
        "            "
      ]
    },
    {
      "cell_type": "code",
      "execution_count": 25,
      "metadata": {
        "colab": {
          "base_uri": "https://localhost:8080/"
        },
        "id": "VrslLu6aK1al",
        "outputId": "09d5946e-5d86-4997-81c3-3b66422a5c72"
      },
      "outputs": [
        {
          "name": "stdout",
          "output_type": "stream",
          "text": [
            "[[0. 1. 0.]\n",
            " [0. 0. 1.]\n",
            " [0. 1. 0.]\n",
            " [0. 1. 0.]\n",
            " [0. 1. 0.]\n",
            " [1. 0. 0.]]\n"
          ]
        }
      ],
      "source": [
        "# ar=np.array(list(map(int, input('Enter space separated list values: ').split())))\n",
        "ar=[2, 3, 2, 2, 2, 1]\n",
        "arr=np.array(ar)\n",
        "uniqueValues=np.unique(ar)\n",
        "uniqueValues.sort()\n",
        "valueMap={}\n",
        "count=0\n",
        "for i in uniqueValues:\n",
        "  valueMap[i]=count\n",
        "  count+=1\n",
        "result=np.zeros((len(ar), len(uniqueValues)))\n",
        "for i in range(len(arr)):\n",
        "  result[i, valueMap[arr[i]]]=1\n",
        "print(result)"
      ]
    },
    {
      "cell_type": "markdown",
      "metadata": {
        "id": "C-SiwZ8dP2-R"
      },
      "source": [
        "Drop all missing values from an array Input: np.array(`[1,2,3,np.nan,5,6,7,np.nan]`) Desired Output: array(`[ 1.,2.,3.,5.,6.,7.]`)"
      ]
    },
    {
      "cell_type": "code",
      "execution_count": 52,
      "metadata": {
        "colab": {
          "base_uri": "https://localhost:8080/"
        },
        "id": "HF_mgV5lP-8e",
        "outputId": "c370a785-3b31-438f-8b60-8da85a5c1533"
      },
      "outputs": [
        {
          "name": "stdout",
          "output_type": "stream",
          "text": [
            "Enter space separated values: 1, ,3, ,4, ,5\n",
            "[1. 3. 4. 5.]\n"
          ]
        }
      ],
      "source": [
        "def get():\n",
        "  stringWaliValues=list(input('Enter space separated values: ').split(','))\n",
        "  intWaliValues=[0 for i in stringWaliValues]\n",
        "  for index, value in enumerate(stringWaliValues):\n",
        "    if value != ' ':\n",
        "      intWaliValues[index]=int(value)\n",
        "    else:\n",
        "      intWaliValues[index]=np.nan\n",
        "  return intWaliValues\n",
        "arr=np.array(get())\n",
        "print(arr[~np.isnan(arr)])"
      ]
    },
    {
      "cell_type": "markdown",
      "metadata": {
        "id": "fpU0dr7WU5TV"
      },
      "source": [
        "Find Index of Local maxima from an array. Input: a = np.array(`[1, 3, 7, 1, 2, 6, 0, 1]`) Desired Output: array(`[2, 5]`)"
      ]
    },
    {
      "cell_type": "code",
      "execution_count": 57,
      "metadata": {
        "colab": {
          "base_uri": "https://localhost:8080/"
        },
        "id": "nyhrJ-ZXU9p4",
        "outputId": "52c4adaa-4efa-41a7-e1f7-099cc10f4ab3"
      },
      "outputs": [
        {
          "name": "stdout",
          "output_type": "stream",
          "text": [
            "Enter space separated values: 1 2\n",
            "[]\n"
          ]
        }
      ],
      "source": [
        "ar=list(map(int, input('Enter space separated values: ').split()))\n",
        "result=[]\n",
        "for i in range(1, len(ar)):\n",
        "  if ar[i]-ar[i-1]<0:#if grad < 0\n",
        "    result.append(i-1)\n",
        "print(result)\n"
      ]
    },
    {
      "cell_type": "markdown",
      "metadata": {
        "id": "ZgovtzG3Vx00"
      },
      "source": [
        "From the given 1d array arr, generate a 2d matrix using strides,\n",
        "For example for an array (`[ 0,  1,  2,  3,  4,  5,  6,  7,  8,  9, 10, 11, 12, 13, 14]`)with a window length of w=4 and strides of s=2, like `[[0,1,2,3], [2,3,4,5], [4,5,6,7]..]`\n",
        "w and s will be provided by user\n",
        "Calculate the moving average."
      ]
    },
    {
      "cell_type": "code",
      "execution_count": 3,
      "metadata": {
        "colab": {
          "base_uri": "https://localhost:8080/"
        },
        "id": "MtuEG7R2V3LJ",
        "outputId": "75b4ba84-4761-4246-b511-ebbef0fa17e3"
      },
      "outputs": [
        {
          "name": "stdout",
          "output_type": "stream",
          "text": [
            "2d matrix in case of zeros: [[0, 1, 2, 3], [2, 3, 4, 5], [4, 5, 6, 7], [6, 7, 8, 9], [8, 9, 10, 11], [10, 11, 12, 13], [12, 13, 14, 0]]\n",
            "2d matrix in case of mirror: [[0, 1, 2, 3], [2, 3, 4, 5], [4, 5, 6, 7], [6, 7, 8, 9], [8, 9, 10, 11], [10, 11, 12, 13], [12, 13, 14, 14]]\n",
            "2d matrix in case of rollback: [[0, 1, 2, 3], [2, 3, 4, 5], [4, 5, 6, 7], [6, 7, 8, 9], [8, 9, 10, 11], [10, 11, 12, 13], [12, 13, 14, 0]]\n",
            "Averages in case of zeros: [1.5, 3.5, 5.5, 7.5, 9.5, 11.5, 9.75]\n",
            "Averages in case of mirror: [1.5, 3.5, 5.5, 7.5, 9.5, 11.5, 13.25]\n",
            "Averages in case of rollback: [1.5, 3.5, 5.5, 7.5, 9.5, 11.5, 9.75]\n",
            "Moving average at 1 (zeros): 2.3\n",
            "Moving average at 1 (mirror): 2.3\n",
            "Moving average at 1 (rollback): 2.3\n",
            "Moving average at 2 (zeros): 4.300000000000001\n",
            "Moving average at 2 (mirror): 4.300000000000001\n",
            "Moving average at 2 (rollback): 4.300000000000001\n",
            "Moving average at 3 (zeros): 6.3\n",
            "Moving average at 3 (mirror): 6.3\n",
            "Moving average at 3 (rollback): 6.3\n",
            "Moving average at 4 (zeros): 8.3\n",
            "Moving average at 4 (mirror): 8.3\n",
            "Moving average at 4 (rollback): 8.3\n",
            "Moving average at 5 (zeros): 10.3\n",
            "Moving average at 5 (mirror): 10.3\n",
            "Moving average at 5 (rollback): 10.3\n",
            "Moving average at 6 (zeros): 10.8\n",
            "Moving average at 6 (mirror): 12.2\n",
            "Moving average at 6 (rollback): 10.8\n"
          ]
        }
      ],
      "source": [
        "# ar=list(map(int, input('Enter space separated values: ').split()))\n",
        "ar=[ 0, 1, 2, 3, 4, 5, 6, 7, 8, 9, 10, 11, 12, 13, 14]\n",
        "w=int(input('Enter window size: '))\n",
        "s=int(input('Enter stride size: '))\n",
        "b=float(input('Enter weight of cur average for moving average: '))\n",
        "resultZeros=[]\n",
        "resultMirror=[]\n",
        "resultRollback=[]\n",
        "temp=[]\n",
        "averages=([], [], [])\n",
        "for i in range(0, len(ar), s):\n",
        "  temp=ar[i:i+w]\n",
        "  if i+w>=len(ar):\n",
        "    zeros=ar[i:i+w]\n",
        "    mirror=ar[i:i+w]\n",
        "    rollback=ar[i:i+w]\n",
        "\n",
        "    zeros+=[0]*(w-len(temp))\n",
        "    mirror+=mirror[::-1]\n",
        "    mirror=mirror[0:w]\n",
        "    rollback=rollback+ar[0:w-len(temp)]\n",
        "\n",
        "    resultZeros.append(zeros)\n",
        "    resultMirror.append(mirror)\n",
        "    resultRollback.append(rollback)\n",
        "    break\n",
        "  resultZeros.append(temp)\n",
        "  resultMirror.append(temp)\n",
        "  resultRollback.append(temp)\n",
        "print(f'2d matrix in case of zeros: {resultZeros}\\n2d matrix in case of mirror: {resultMirror}\\n2d matrix in case of rollback: {resultRollback}')\n",
        "for zero, mirror, rollback in zip(resultZeros, resultMirror, resultRollback):\n",
        "  averages[0].append(sum(zero)/w)\n",
        "  averages[1].append(sum(mirror)/w)\n",
        "  averages[2].append(sum(rollback)/w)\n",
        "print(f'Averages in case of zeros: {averages[0]}\\nAverages in case of mirror: {averages[1]}\\nAverages in case of rollback: {averages[2]}')\n",
        "for i in range(1, len(averages[0])):\n",
        "  print(f'Moving average at {i} (zeros): {(b*averages[0][i]+(1-b)*averages[0][i-1])}')\n",
        "  print(f'Moving average at {i} (mirror): {(b*averages[1][i]+(1-b)*averages[1][i-1])}')\n",
        "  print(f'Moving average at {i} (rollback): {(b*averages[2][i]+(1-b)*averages[2][i-1])}')\n"
      ]
    }
  ],
  "metadata": {
    "colab": {
      "provenance": []
    },
    "kernelspec": {
      "display_name": "Python 3",
      "language": "python",
      "name": "python3"
    },
    "language_info": {
      "codemirror_mode": {
        "name": "ipython",
        "version": 3
      },
      "file_extension": ".py",
      "mimetype": "text/x-python",
      "name": "python",
      "nbconvert_exporter": "python",
      "pygments_lexer": "ipython3",
      "version": "3.12.2"
    }
  },
  "nbformat": 4,
  "nbformat_minor": 0
}
