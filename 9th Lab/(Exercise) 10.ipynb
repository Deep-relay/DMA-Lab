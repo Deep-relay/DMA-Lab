{
  "cells": [
    {
      "cell_type": "markdown",
      "source": [
        "#### KNeighborsClassifier(3),    \n",
        "#### SVC(kernel=\"linear\", C=0.025),   \n",
        "#### SVC(gamma=2, C=1),     \n",
        "#### GaussianProcessClassifier(1.0 * RBF(1.0)),    \n",
        "#### DecisionTreeClassifier(max_depth=5),     \n",
        "#### RandomForestClassifier(max_depth=5, n_estimators=10, max_features=1),\n",
        "#### MLPClassifier(alpha=1),    \n",
        "#### AdaBoostClassifier(),\n",
        "#### GaussianNB(),  \n",
        "#### QuadraticDiscriminantAnalysis()]"
      ],
      "metadata": {
        "id": "kzspNVzIr3p2"
      },
      "id": "kzspNVzIr3p2"
    },
    {
      "cell_type": "code",
      "source": [
        "import random\n",
        "import numpy as np\n",
        "import pandas as pd\n",
        "from sklearn import datasets\n",
        "from sklearn.neighbors import KNeighborsClassifier\n",
        "from sklearn import metrics\n",
        "from sklearn.model_selection import train_test_split\n",
        "from sklearn import svm\n",
        "from sklearn.gaussian_process import GaussianProcessClassifier\n",
        "from sklearn.gaussian_process.kernels import RBF\n",
        "from sklearn.tree import DecisionTreeClassifier\n",
        "from sklearn.ensemble import RandomForestClassifier\n",
        "from sklearn.neural_network import MLPClassifier\n",
        "from sklearn.ensemble import AdaBoostClassifier\n",
        "from sklearn.naive_bayes import GaussianNB\n",
        "from sklearn.discriminant_analysis import QuadraticDiscriminantAnalysis\n"
      ],
      "metadata": {
        "id": "69vowalisQx6"
      },
      "id": "69vowalisQx6",
      "execution_count": 80,
      "outputs": []
    },
    {
      "cell_type": "code",
      "source": [
        "iris=datasets.load_iris()\n",
        "data_url = \"http://lib.stat.cmu.edu/datasets/boston\"\n",
        "raw_df = pd.read_csv(data_url, sep=\"\\s+\", skiprows=22, header=None)\n",
        "data = np.hstack([raw_df.values[::2, :], raw_df.values[1::2, :2]])\n",
        "boston = raw_df.values[1::2, 2]\n",
        "digits=datasets.load_digits()\n",
        "x,y=iris.data,iris.target\n",
        "x=np.array(x)\n",
        "y=np.array(y)\n",
        "print(iris.DESCR)\n",
        "print(digits.DESCR)\n",
        "print(boston.shape)"
      ],
      "metadata": {
        "colab": {
          "base_uri": "https://localhost:8080/"
        },
        "id": "FSavvbcEss79",
        "outputId": "4922fa2c-085f-401e-dd65-7913f93aa279"
      },
      "id": "FSavvbcEss79",
      "execution_count": 38,
      "outputs": [
        {
          "output_type": "stream",
          "name": "stdout",
          "text": [
            ".. _iris_dataset:\n",
            "\n",
            "Iris plants dataset\n",
            "--------------------\n",
            "\n",
            "**Data Set Characteristics:**\n",
            "\n",
            ":Number of Instances: 150 (50 in each of three classes)\n",
            ":Number of Attributes: 4 numeric, predictive attributes and the class\n",
            ":Attribute Information:\n",
            "    - sepal length in cm\n",
            "    - sepal width in cm\n",
            "    - petal length in cm\n",
            "    - petal width in cm\n",
            "    - class:\n",
            "            - Iris-Setosa\n",
            "            - Iris-Versicolour\n",
            "            - Iris-Virginica\n",
            "\n",
            ":Summary Statistics:\n",
            "\n",
            "============== ==== ==== ======= ===== ====================\n",
            "                Min  Max   Mean    SD   Class Correlation\n",
            "============== ==== ==== ======= ===== ====================\n",
            "sepal length:   4.3  7.9   5.84   0.83    0.7826\n",
            "sepal width:    2.0  4.4   3.05   0.43   -0.4194\n",
            "petal length:   1.0  6.9   3.76   1.76    0.9490  (high!)\n",
            "petal width:    0.1  2.5   1.20   0.76    0.9565  (high!)\n",
            "============== ==== ==== ======= ===== ====================\n",
            "\n",
            ":Missing Attribute Values: None\n",
            ":Class Distribution: 33.3% for each of 3 classes.\n",
            ":Creator: R.A. Fisher\n",
            ":Donor: Michael Marshall (MARSHALL%PLU@io.arc.nasa.gov)\n",
            ":Date: July, 1988\n",
            "\n",
            "The famous Iris database, first used by Sir R.A. Fisher. The dataset is taken\n",
            "from Fisher's paper. Note that it's the same as in R, but not as in the UCI\n",
            "Machine Learning Repository, which has two wrong data points.\n",
            "\n",
            "This is perhaps the best known database to be found in the\n",
            "pattern recognition literature.  Fisher's paper is a classic in the field and\n",
            "is referenced frequently to this day.  (See Duda & Hart, for example.)  The\n",
            "data set contains 3 classes of 50 instances each, where each class refers to a\n",
            "type of iris plant.  One class is linearly separable from the other 2; the\n",
            "latter are NOT linearly separable from each other.\n",
            "\n",
            ".. dropdown:: References\n",
            "\n",
            "  - Fisher, R.A. \"The use of multiple measurements in taxonomic problems\"\n",
            "    Annual Eugenics, 7, Part II, 179-188 (1936); also in \"Contributions to\n",
            "    Mathematical Statistics\" (John Wiley, NY, 1950).\n",
            "  - Duda, R.O., & Hart, P.E. (1973) Pattern Classification and Scene Analysis.\n",
            "    (Q327.D83) John Wiley & Sons.  ISBN 0-471-22361-1.  See page 218.\n",
            "  - Dasarathy, B.V. (1980) \"Nosing Around the Neighborhood: A New System\n",
            "    Structure and Classification Rule for Recognition in Partially Exposed\n",
            "    Environments\".  IEEE Transactions on Pattern Analysis and Machine\n",
            "    Intelligence, Vol. PAMI-2, No. 1, 67-71.\n",
            "  - Gates, G.W. (1972) \"The Reduced Nearest Neighbor Rule\".  IEEE Transactions\n",
            "    on Information Theory, May 1972, 431-433.\n",
            "  - See also: 1988 MLC Proceedings, 54-64.  Cheeseman et al\"s AUTOCLASS II\n",
            "    conceptual clustering system finds 3 classes in the data.\n",
            "  - Many, many more ...\n",
            "\n",
            ".. _digits_dataset:\n",
            "\n",
            "Optical recognition of handwritten digits dataset\n",
            "--------------------------------------------------\n",
            "\n",
            "**Data Set Characteristics:**\n",
            "\n",
            ":Number of Instances: 1797\n",
            ":Number of Attributes: 64\n",
            ":Attribute Information: 8x8 image of integer pixels in the range 0..16.\n",
            ":Missing Attribute Values: None\n",
            ":Creator: E. Alpaydin (alpaydin '@' boun.edu.tr)\n",
            ":Date: July; 1998\n",
            "\n",
            "This is a copy of the test set of the UCI ML hand-written digits datasets\n",
            "https://archive.ics.uci.edu/ml/datasets/Optical+Recognition+of+Handwritten+Digits\n",
            "\n",
            "The data set contains images of hand-written digits: 10 classes where\n",
            "each class refers to a digit.\n",
            "\n",
            "Preprocessing programs made available by NIST were used to extract\n",
            "normalized bitmaps of handwritten digits from a preprinted form. From a\n",
            "total of 43 people, 30 contributed to the training set and different 13\n",
            "to the test set. 32x32 bitmaps are divided into nonoverlapping blocks of\n",
            "4x4 and the number of on pixels are counted in each block. This generates\n",
            "an input matrix of 8x8 where each element is an integer in the range\n",
            "0..16. This reduces dimensionality and gives invariance to small\n",
            "distortions.\n",
            "\n",
            "For info on NIST preprocessing routines, see M. D. Garris, J. L. Blue, G.\n",
            "T. Candela, D. L. Dimmick, J. Geist, P. J. Grother, S. A. Janet, and C.\n",
            "L. Wilson, NIST Form-Based Handprint Recognition System, NISTIR 5469,\n",
            "1994.\n",
            "\n",
            ".. dropdown:: References\n",
            "\n",
            "  - C. Kaynak (1995) Methods of Combining Multiple Classifiers and Their\n",
            "    Applications to Handwritten Digit Recognition, MSc Thesis, Institute of\n",
            "    Graduate Studies in Science and Engineering, Bogazici University.\n",
            "  - E. Alpaydin, C. Kaynak (1998) Cascading Classifiers, Kybernetika.\n",
            "  - Ken Tang and Ponnuthurai N. Suganthan and Xi Yao and A. Kai Qin.\n",
            "    Linear dimensionalityreduction using relevance weighted LDA. School of\n",
            "    Electrical and Electronic Engineering Nanyang Technological University.\n",
            "    2005.\n",
            "  - Claudio Gentile. A New Approximate Maximal Margin Classification\n",
            "    Algorithm. NIPS. 2000.\n",
            "\n",
            "(506,)\n"
          ]
        }
      ]
    },
    {
      "cell_type": "code",
      "source": [
        "print(iris.keys())\n",
        "print(\"Header : \", iris.feature_names)\n",
        "print(\"Target : \", iris.target[np.random.choice(150,20)])\n",
        "print(iris.data.shape)"
      ],
      "metadata": {
        "colab": {
          "base_uri": "https://localhost:8080/"
        },
        "id": "FYIifcEttHpF",
        "outputId": "5c54a86b-c383-44bc-fa33-a99e349996df"
      },
      "id": "FYIifcEttHpF",
      "execution_count": 63,
      "outputs": [
        {
          "output_type": "stream",
          "name": "stdout",
          "text": [
            "dict_keys(['data', 'target', 'frame', 'target_names', 'DESCR', 'feature_names', 'filename', 'data_module'])\n",
            "Header :  ['sepal length (cm)', 'sepal width (cm)', 'petal length (cm)', 'petal width (cm)']\n",
            "Target :  [2 0 0 2 2 1 0 2 1 1 0 1 2 0 0 1 1 0 2 0]\n",
            "(150, 4)\n"
          ]
        }
      ]
    },
    {
      "cell_type": "code",
      "source": [
        "print(digits.keys())\n",
        "print(\"Header : \", digits.feature_names)\n",
        "print(\"Target : \", digits.target[np.random.choice(150,20)])\n",
        "print(digits.data.shape)"
      ],
      "metadata": {
        "colab": {
          "base_uri": "https://localhost:8080/"
        },
        "id": "AFBRjTlP2vQZ",
        "outputId": "6ad9e185-cf79-4692-fc18-901f52bbdf09"
      },
      "id": "AFBRjTlP2vQZ",
      "execution_count": 65,
      "outputs": [
        {
          "output_type": "stream",
          "name": "stdout",
          "text": [
            "dict_keys(['data', 'target', 'frame', 'feature_names', 'target_names', 'images', 'DESCR'])\n",
            "Header :  ['pixel_0_0', 'pixel_0_1', 'pixel_0_2', 'pixel_0_3', 'pixel_0_4', 'pixel_0_5', 'pixel_0_6', 'pixel_0_7', 'pixel_1_0', 'pixel_1_1', 'pixel_1_2', 'pixel_1_3', 'pixel_1_4', 'pixel_1_5', 'pixel_1_6', 'pixel_1_7', 'pixel_2_0', 'pixel_2_1', 'pixel_2_2', 'pixel_2_3', 'pixel_2_4', 'pixel_2_5', 'pixel_2_6', 'pixel_2_7', 'pixel_3_0', 'pixel_3_1', 'pixel_3_2', 'pixel_3_3', 'pixel_3_4', 'pixel_3_5', 'pixel_3_6', 'pixel_3_7', 'pixel_4_0', 'pixel_4_1', 'pixel_4_2', 'pixel_4_3', 'pixel_4_4', 'pixel_4_5', 'pixel_4_6', 'pixel_4_7', 'pixel_5_0', 'pixel_5_1', 'pixel_5_2', 'pixel_5_3', 'pixel_5_4', 'pixel_5_5', 'pixel_5_6', 'pixel_5_7', 'pixel_6_0', 'pixel_6_1', 'pixel_6_2', 'pixel_6_3', 'pixel_6_4', 'pixel_6_5', 'pixel_6_6', 'pixel_6_7', 'pixel_7_0', 'pixel_7_1', 'pixel_7_2', 'pixel_7_3', 'pixel_7_4', 'pixel_7_5', 'pixel_7_6', 'pixel_7_7']\n",
            "Target :  [0 0 7 1 2 6 9 3 3 6 2 0 8 2 4 7 6 5 4 3]\n",
            "(1797, 64)\n"
          ]
        }
      ]
    },
    {
      "cell_type": "code",
      "source": [
        "#Boston wale ke liye khali chhoda\n",
        "\n",
        "# print(iris.keys())\n",
        "# print(\"Header : \", iris.feature_names)\n",
        "# print(\"Target : \", iris.target[np.random.choice(150,20)])\n",
        "# print(iris.data.shape)"
      ],
      "metadata": {
        "colab": {
          "base_uri": "https://localhost:8080/"
        },
        "id": "RrKfHGIx2vBL",
        "outputId": "fbaad42f-3722-454f-a31e-5f58798c0b5a"
      },
      "id": "RrKfHGIx2vBL",
      "execution_count": 64,
      "outputs": [
        {
          "output_type": "stream",
          "name": "stdout",
          "text": [
            "dict_keys(['data', 'target', 'frame', 'target_names', 'DESCR', 'feature_names', 'filename', 'data_module'])\n",
            "Header :  ['sepal length (cm)', 'sepal width (cm)', 'petal length (cm)', 'petal width (cm)']\n",
            "Target :  [1 1 2 0 1 0 0 0 2 1 0 2 0 2 0 0 0 1 0 0]\n",
            "(150, 4)\n"
          ]
        }
      ]
    },
    {
      "cell_type": "code",
      "source": [
        "X = iris.data\n",
        "y = iris.target\n",
        "X_train, X_test, y_train, y_test = train_test_split(X, y, test_size=0.2, random_state=4)\n",
        "# XBoston_train, XBoston_test, yBoston_train, yBoston_test = train_test_split(boston.data, boston.target, test_size=0.2, random_state=4)\n",
        "XDigits_train, XDigits_test, yDigits_train, yDigits_test = train_test_split(digits.data, digits.target, test_size=0.4, random_state=4)"
      ],
      "metadata": {
        "id": "a5D0KPCQtU4N"
      },
      "id": "a5D0KPCQtU4N",
      "execution_count": 54,
      "outputs": []
    },
    {
      "cell_type": "code",
      "source": [
        "knn = KNeighborsClassifier(n_neighbors=3)\n",
        "knnBoston=KNeighborsClassifier(n_neighbors=3)\n",
        "knnDigits=KNeighborsClassifier(n_neighbors=3)\n",
        "knn.fit(X_train, y_train)\n",
        "# knnBoston.fit(XBoston_train, yBoston_train)\n",
        "knnDigits.fit(XDigits_train, yDigits_train)\n",
        "y_pred=knn.predict(X_test)\n",
        "# yBoston_pred=knnBoston.predict(XBoston_test)\n",
        "yDigits_pred=knnDigits.predict(XDigits_test)\n",
        "# print(f'Boston:{metrics.mean_squared_error(yBoston_test, yBoston_pred)\n",
        "print(f'Iris:{metrics.accuracy_score(y_test, y_pred)}')\n",
        "print(f'Digits:{metrics.accuracy_score(yDigits_test, yDigits_pred)}')\n"
      ],
      "metadata": {
        "colab": {
          "base_uri": "https://localhost:8080/"
        },
        "id": "KVMLayFztYYw",
        "outputId": "bd24ce02-1b4d-44d0-c937-bcf952303715"
      },
      "id": "KVMLayFztYYw",
      "execution_count": 46,
      "outputs": [
        {
          "output_type": "stream",
          "name": "stdout",
          "text": [
            "Iris:0.9666666666666667\n",
            "Digits:0.9888888888888889\n"
          ]
        }
      ]
    },
    {
      "cell_type": "code",
      "source": [
        "svc_model = svm.SVC( C=0.025, kernel='linear')\n",
        "svc_model.fit(X_train, y_train)\n",
        "svc_pred=svc_model.predict(X_test)\n",
        "print(metrics.accuracy_score(y_test, svc_pred))\n",
        "print(metrics.confusion_matrix(y_test, svc_pred))\n",
        "print(metrics.classification_report(y_test, svc_pred))\n",
        "svcModelDigits=svm.SVC( C=0.025, kernel='linear')\n",
        "svcModelDigits.fit(XDigits_train, yDigits_train)\n",
        "svcModelDigitsPred=svcModelDigits.predict(XDigits_test)\n",
        "print(metrics.accuracy_score(yDigits_test, svcModelDigitsPred))\n",
        "print(metrics.confusion_matrix(yDigits_test, svcModelDigitsPred))\n",
        "print(metrics.classification_report(yDigits_test, svcModelDigitsPred))"
      ],
      "metadata": {
        "colab": {
          "base_uri": "https://localhost:8080/"
        },
        "id": "ryahnVMotkJi",
        "outputId": "306853b1-6924-4a32-a54f-9d62639a4371"
      },
      "id": "ryahnVMotkJi",
      "execution_count": 71,
      "outputs": [
        {
          "output_type": "stream",
          "name": "stdout",
          "text": [
            "0.9666666666666667\n",
            "[[16  0  0]\n",
            " [ 0  4  1]\n",
            " [ 0  0  9]]\n",
            "              precision    recall  f1-score   support\n",
            "\n",
            "           0       1.00      1.00      1.00        16\n",
            "           1       1.00      0.80      0.89         5\n",
            "           2       0.90      1.00      0.95         9\n",
            "\n",
            "    accuracy                           0.97        30\n",
            "   macro avg       0.97      0.93      0.95        30\n",
            "weighted avg       0.97      0.97      0.97        30\n",
            "\n",
            "0.9777468706536857\n",
            "[[77  0  0  0  0  0  0  0  0  0]\n",
            " [ 0 69  0  0  0  0  0  0  0  0]\n",
            " [ 0  0 72  0  0  0  0  0  0  0]\n",
            " [ 0  1  0 75  0  0  0  0  0  2]\n",
            " [ 0  2  0  0 65  0  0  0  0  0]\n",
            " [ 0  0  0  0  0 70  0  0  0  1]\n",
            " [ 0  0  0  0  0  0 75  0  1  0]\n",
            " [ 0  0  0  0  0  0  0 70  1  0]\n",
            " [ 0  3  0  0  0  0  0  0 64  0]\n",
            " [ 0  1  0  0  0  0  0  0  4 66]]\n",
            "              precision    recall  f1-score   support\n",
            "\n",
            "           0       1.00      1.00      1.00        77\n",
            "           1       0.91      1.00      0.95        69\n",
            "           2       1.00      1.00      1.00        72\n",
            "           3       1.00      0.96      0.98        78\n",
            "           4       1.00      0.97      0.98        67\n",
            "           5       1.00      0.99      0.99        71\n",
            "           6       1.00      0.99      0.99        76\n",
            "           7       1.00      0.99      0.99        71\n",
            "           8       0.91      0.96      0.93        67\n",
            "           9       0.96      0.93      0.94        71\n",
            "\n",
            "    accuracy                           0.98       719\n",
            "   macro avg       0.98      0.98      0.98       719\n",
            "weighted avg       0.98      0.98      0.98       719\n",
            "\n"
          ]
        }
      ]
    },
    {
      "cell_type": "code",
      "source": [
        "svcModel2=svm.SVC(gamma=2, C=1)\n",
        "svcModel2.fit(X_train, y_train)\n",
        "svc2Pred=svcModel2.predict(X_test)\n",
        "print(metrics.accuracy_score(y_test, svc2Pred))\n",
        "print(metrics.confusion_matrix(y_test, svc2Pred))\n",
        "print(metrics.classification_report(y_test, svc2Pred))\n",
        "digitsSvcModel=svm.SVC(gamma=2,C=1)\n",
        "digitsSvcModel.fit(XDigits_train, yDigits_train)\n",
        "svcModel2Pred=digitsSvcModel.predict(XDigits_test)\n",
        "print(metrics.accuracy_score(yDigits_test, svcModel2Pred))\n",
        "print(metrics.confusion_matrix(yDigits_test, svcModel2Pred))\n",
        "print(metrics.classification_report(yDigits_test, svcModel2Pred))"
      ],
      "metadata": {
        "colab": {
          "base_uri": "https://localhost:8080/"
        },
        "id": "Akm6a9itt-rt",
        "outputId": "096adeb1-79e5-4000-e67b-5f2c2e049c81"
      },
      "id": "Akm6a9itt-rt",
      "execution_count": 72,
      "outputs": [
        {
          "output_type": "stream",
          "name": "stdout",
          "text": [
            "0.9666666666666667\n",
            "[[16  0  0]\n",
            " [ 0  4  1]\n",
            " [ 0  0  9]]\n",
            "              precision    recall  f1-score   support\n",
            "\n",
            "           0       1.00      1.00      1.00        16\n",
            "           1       1.00      0.80      0.89         5\n",
            "           2       0.90      1.00      0.95         9\n",
            "\n",
            "    accuracy                           0.97        30\n",
            "   macro avg       0.97      0.93      0.95        30\n",
            "weighted avg       0.97      0.97      0.97        30\n",
            "\n",
            "0.09318497913769123\n",
            "[[ 0  0  0  0 77  0  0  0  0  0]\n",
            " [ 0  0  0  0 69  0  0  0  0  0]\n",
            " [ 0  0  0  0 72  0  0  0  0  0]\n",
            " [ 0  0  0  0 78  0  0  0  0  0]\n",
            " [ 0  0  0  0 67  0  0  0  0  0]\n",
            " [ 0  0  0  0 71  0  0  0  0  0]\n",
            " [ 0  0  0  0 76  0  0  0  0  0]\n",
            " [ 0  0  0  0 71  0  0  0  0  0]\n",
            " [ 0  0  0  0 67  0  0  0  0  0]\n",
            " [ 0  0  0  0 71  0  0  0  0  0]]\n",
            "              precision    recall  f1-score   support\n",
            "\n",
            "           0       0.00      0.00      0.00        77\n",
            "           1       0.00      0.00      0.00        69\n",
            "           2       0.00      0.00      0.00        72\n",
            "           3       0.00      0.00      0.00        78\n",
            "           4       0.09      1.00      0.17        67\n",
            "           5       0.00      0.00      0.00        71\n",
            "           6       0.00      0.00      0.00        76\n",
            "           7       0.00      0.00      0.00        71\n",
            "           8       0.00      0.00      0.00        67\n",
            "           9       0.00      0.00      0.00        71\n",
            "\n",
            "    accuracy                           0.09       719\n",
            "   macro avg       0.01      0.10      0.02       719\n",
            "weighted avg       0.01      0.09      0.02       719\n",
            "\n"
          ]
        },
        {
          "output_type": "stream",
          "name": "stderr",
          "text": [
            "/usr/local/lib/python3.11/dist-packages/sklearn/metrics/_classification.py:1565: UndefinedMetricWarning: Precision is ill-defined and being set to 0.0 in labels with no predicted samples. Use `zero_division` parameter to control this behavior.\n",
            "  _warn_prf(average, modifier, f\"{metric.capitalize()} is\", len(result))\n",
            "/usr/local/lib/python3.11/dist-packages/sklearn/metrics/_classification.py:1565: UndefinedMetricWarning: Precision is ill-defined and being set to 0.0 in labels with no predicted samples. Use `zero_division` parameter to control this behavior.\n",
            "  _warn_prf(average, modifier, f\"{metric.capitalize()} is\", len(result))\n",
            "/usr/local/lib/python3.11/dist-packages/sklearn/metrics/_classification.py:1565: UndefinedMetricWarning: Precision is ill-defined and being set to 0.0 in labels with no predicted samples. Use `zero_division` parameter to control this behavior.\n",
            "  _warn_prf(average, modifier, f\"{metric.capitalize()} is\", len(result))\n"
          ]
        }
      ]
    },
    {
      "cell_type": "code",
      "source": [
        "gpc = GaussianProcessClassifier(kernel=1.0*RBF(1.0),random_state=0)\n",
        "gpc.fit(X_train, y_train)\n",
        "gpcPred=gpc.predict(X_test)\n",
        "print(metrics.accuracy_score(y_test, gpcPred))\n",
        "print(metrics.confusion_matrix(y_test, gpcPred))\n",
        "print(metrics.classification_report(y_test, gpcPred))\n",
        "gpcDigits=GaussianProcessClassifier(kernel=1.0*RBF(1.0),random_state=0)\n",
        "gpcDigits.fit(XDigits_train, yDigits_train)\n",
        "gpcDigitsPred=gpcDigits.predict(XDigits_test)\n",
        "print(metrics.accuracy_score(yDigits_test, gpcDigitsPred))\n",
        "print(metrics.confusion_matrix(yDigits_test, gpcDigitsPred))\n",
        "print(metrics.classification_report(yDigits_test, gpcDigitsPred))"
      ],
      "metadata": {
        "colab": {
          "base_uri": "https://localhost:8080/"
        },
        "id": "2XWyhH5LuGXO",
        "outputId": "dca4f376-dad0-4305-d234-ff26442a441d"
      },
      "id": "2XWyhH5LuGXO",
      "execution_count": 73,
      "outputs": [
        {
          "output_type": "stream",
          "name": "stdout",
          "text": [
            "0.9333333333333333\n",
            "[[16  0  0]\n",
            " [ 0  4  1]\n",
            " [ 0  1  8]]\n",
            "              precision    recall  f1-score   support\n",
            "\n",
            "           0       1.00      1.00      1.00        16\n",
            "           1       0.80      0.80      0.80         5\n",
            "           2       0.89      0.89      0.89         9\n",
            "\n",
            "    accuracy                           0.93        30\n",
            "   macro avg       0.90      0.90      0.90        30\n",
            "weighted avg       0.93      0.93      0.93        30\n",
            "\n",
            "0.09874826147426982\n",
            "[[ 0  0  0  0  0  0  0  0  0 77]\n",
            " [ 0  0  0  0  0  0  0  0  0 69]\n",
            " [ 0  0  0  0  0  0  0  0  0 72]\n",
            " [ 0  0  0  0  0  0  0  0  0 78]\n",
            " [ 0  0  0  0  0  0  0  0  0 67]\n",
            " [ 0  0  0  0  0  0  0  0  0 71]\n",
            " [ 0  0  0  0  0  0  0  0  0 76]\n",
            " [ 0  0  0  0  0  0  0  0  0 71]\n",
            " [ 0  0  0  0  0  0  0  0  0 67]\n",
            " [ 0  0  0  0  0  0  0  0  0 71]]\n",
            "              precision    recall  f1-score   support\n",
            "\n",
            "           0       0.00      0.00      0.00        77\n",
            "           1       0.00      0.00      0.00        69\n",
            "           2       0.00      0.00      0.00        72\n",
            "           3       0.00      0.00      0.00        78\n",
            "           4       0.00      0.00      0.00        67\n",
            "           5       0.00      0.00      0.00        71\n",
            "           6       0.00      0.00      0.00        76\n",
            "           7       0.00      0.00      0.00        71\n",
            "           8       0.00      0.00      0.00        67\n",
            "           9       0.10      1.00      0.18        71\n",
            "\n",
            "    accuracy                           0.10       719\n",
            "   macro avg       0.01      0.10      0.02       719\n",
            "weighted avg       0.01      0.10      0.02       719\n",
            "\n"
          ]
        },
        {
          "output_type": "stream",
          "name": "stderr",
          "text": [
            "/usr/local/lib/python3.11/dist-packages/sklearn/metrics/_classification.py:1565: UndefinedMetricWarning: Precision is ill-defined and being set to 0.0 in labels with no predicted samples. Use `zero_division` parameter to control this behavior.\n",
            "  _warn_prf(average, modifier, f\"{metric.capitalize()} is\", len(result))\n",
            "/usr/local/lib/python3.11/dist-packages/sklearn/metrics/_classification.py:1565: UndefinedMetricWarning: Precision is ill-defined and being set to 0.0 in labels with no predicted samples. Use `zero_division` parameter to control this behavior.\n",
            "  _warn_prf(average, modifier, f\"{metric.capitalize()} is\", len(result))\n",
            "/usr/local/lib/python3.11/dist-packages/sklearn/metrics/_classification.py:1565: UndefinedMetricWarning: Precision is ill-defined and being set to 0.0 in labels with no predicted samples. Use `zero_division` parameter to control this behavior.\n",
            "  _warn_prf(average, modifier, f\"{metric.capitalize()} is\", len(result))\n"
          ]
        }
      ]
    },
    {
      "cell_type": "code",
      "source": [
        "decisionTree=DecisionTreeClassifier(max_depth=5)\n",
        "decisionTree.fit(X_train, y_train)\n",
        "decisionTreePred=decisionTree.predict(X_test)\n",
        "print(metrics.accuracy_score(y_test, decisionTreePred))\n",
        "print(metrics.confusion_matrix(y_test, decisionTreePred))\n",
        "print(metrics.classification_report(y_test, decisionTreePred))\n",
        "decisionTreeDigits=DecisionTreeClassifier(max_depth=5)\n",
        "decisionTreeDigits.fit(XDigits_train, yDigits_train)\n",
        "decisionTreeDigitsPred=decisionTreeDigits.predict(XDigits_test)\n",
        "print(metrics.accuracy_score(yDigits_test, decisionTreeDigitsPred))\n",
        "print(metrics.confusion_matrix(yDigits_test, decisionTreeDigitsPred))\n",
        "print(metrics.classification_report(yDigits_test, decisionTreeDigitsPred))"
      ],
      "metadata": {
        "colab": {
          "base_uri": "https://localhost:8080/"
        },
        "id": "6FzuU87YvXYq",
        "outputId": "891d6161-0d48-41d5-d178-3c40ed5b3860"
      },
      "id": "6FzuU87YvXYq",
      "execution_count": 74,
      "outputs": [
        {
          "output_type": "stream",
          "name": "stdout",
          "text": [
            "0.9666666666666667\n",
            "[[16  0  0]\n",
            " [ 0  4  1]\n",
            " [ 0  0  9]]\n",
            "              precision    recall  f1-score   support\n",
            "\n",
            "           0       1.00      1.00      1.00        16\n",
            "           1       1.00      0.80      0.89         5\n",
            "           2       0.90      1.00      0.95         9\n",
            "\n",
            "    accuracy                           0.97        30\n",
            "   macro avg       0.97      0.93      0.95        30\n",
            "weighted avg       0.97      0.97      0.97        30\n",
            "\n",
            "0.6592489568845619\n",
            "[[72  0  0  0  1  3  0  0  1  0]\n",
            " [ 0 16  6  4  0  1  0  2 40  0]\n",
            " [ 0  1 19  3  0  2  0  0 47  0]\n",
            " [ 0  3  8 60  0  0  0  1  6  0]\n",
            " [ 0  8  0  1 51  2  0  0  5  0]\n",
            " [ 0  0  2  2  1 65  0  1  0  0]\n",
            " [ 0  8  0  0  2  1 65  0  0  0]\n",
            " [ 0  4  0  0  3  0  0 61  3  0]\n",
            " [ 0  0  3  8  0  2  0  2 51  1]\n",
            " [ 0  0  3 46  1  2  0  2  3 14]]\n",
            "              precision    recall  f1-score   support\n",
            "\n",
            "           0       1.00      0.94      0.97        77\n",
            "           1       0.40      0.23      0.29        69\n",
            "           2       0.46      0.26      0.34        72\n",
            "           3       0.48      0.77      0.59        78\n",
            "           4       0.86      0.76      0.81        67\n",
            "           5       0.83      0.92      0.87        71\n",
            "           6       1.00      0.86      0.92        76\n",
            "           7       0.88      0.86      0.87        71\n",
            "           8       0.33      0.76      0.46        67\n",
            "           9       0.93      0.20      0.33        71\n",
            "\n",
            "    accuracy                           0.66       719\n",
            "   macro avg       0.72      0.65      0.64       719\n",
            "weighted avg       0.72      0.66      0.65       719\n",
            "\n"
          ]
        }
      ]
    },
    {
      "cell_type": "code",
      "source": [
        "randomForest=RandomForestClassifier(max_depth=5, n_estimators=10, max_features=1)\n",
        "randomForest.fit(X_train, y_train)\n",
        "randomForestPred=randomForest.predict(X_test)\n",
        "print(metrics.accuracy_score(y_test, randomForestPred))\n",
        "print(metrics.confusion_matrix(y_test, randomForestPred))\n",
        "print(metrics.classification_report(y_test, randomForestPred))\n",
        "randomForestDigits=RandomForestClassifier(max_depth=5, n_estimators=10, max_features=1)\n",
        "randomForestDigits.fit(XDigits_train, yDigits_train)\n",
        "randomForestDigitsPred=randomForestDigits.predict(XDigits_test)\n",
        "print(metrics.accuracy_score(yDigits_test, randomForestDigitsPred))\n",
        "print(metrics.confusion_matrix(yDigits_test, randomForestDigitsPred))\n",
        "print(metrics.classification_report(yDigits_test, randomForestDigitsPred))"
      ],
      "metadata": {
        "colab": {
          "base_uri": "https://localhost:8080/"
        },
        "id": "3ea-5Rt3wKC6",
        "outputId": "4ea5150c-d0d8-4fc7-bd8d-cc15e7850ae6"
      },
      "id": "3ea-5Rt3wKC6",
      "execution_count": 75,
      "outputs": [
        {
          "output_type": "stream",
          "name": "stdout",
          "text": [
            "0.9666666666666667\n",
            "[[16  0  0]\n",
            " [ 0  4  1]\n",
            " [ 0  0  9]]\n",
            "              precision    recall  f1-score   support\n",
            "\n",
            "           0       1.00      1.00      1.00        16\n",
            "           1       1.00      0.80      0.89         5\n",
            "           2       0.90      1.00      0.95         9\n",
            "\n",
            "    accuracy                           0.97        30\n",
            "   macro avg       0.97      0.93      0.95        30\n",
            "weighted avg       0.97      0.97      0.97        30\n",
            "\n",
            "0.803894297635605\n",
            "[[75  0  0  0  1  0  0  1  0  0]\n",
            " [ 0 56  7  0  1  1  2  0  2  0]\n",
            " [ 0  3 57  2  0  1  3  1  2  3]\n",
            " [ 0  1  6 61  0  1  2  2  3  2]\n",
            " [ 0  2  0  0 63  1  1  0  0  0]\n",
            " [ 3  1  0  4  1 56  2  0  0  4]\n",
            " [ 0  0  0  0  0  3 73  0  0  0]\n",
            " [ 0  0  0  0  1  0  0 67  2  1]\n",
            " [ 6  9  5  5  1  3  4  4 25  5]\n",
            " [ 4  3  4  5  0  2  2  6  0 45]]\n",
            "              precision    recall  f1-score   support\n",
            "\n",
            "           0       0.85      0.97      0.91        77\n",
            "           1       0.75      0.81      0.78        69\n",
            "           2       0.72      0.79      0.75        72\n",
            "           3       0.79      0.78      0.79        78\n",
            "           4       0.93      0.94      0.93        67\n",
            "           5       0.82      0.79      0.81        71\n",
            "           6       0.82      0.96      0.88        76\n",
            "           7       0.83      0.94      0.88        71\n",
            "           8       0.74      0.37      0.50        67\n",
            "           9       0.75      0.63      0.69        71\n",
            "\n",
            "    accuracy                           0.80       719\n",
            "   macro avg       0.80      0.80      0.79       719\n",
            "weighted avg       0.80      0.80      0.79       719\n",
            "\n"
          ]
        }
      ]
    },
    {
      "cell_type": "code",
      "source": [
        "mlpClassifier=MLPClassifier(alpha=1)\n",
        "mlpClassifier.fit(X_train, y_train)\n",
        "mlpClassifierPred=mlpClassifier.predict(X_test)\n",
        "print(metrics.accuracy_score(y_test, mlpClassifierPred))\n",
        "print(metrics.confusion_matrix(y_test, mlpClassifierPred))\n",
        "print(metrics.classification_report(y_test, mlpClassifierPred))\n",
        "mlpClassifierDigits=MLPClassifier(alpha=1)\n",
        "mlpClassifierDigits.fit(XDigits_train, yDigits_train)\n",
        "mlpClassifierDigitsPred=mlpClassifierDigits.predict(XDigits_test)\n",
        "print(metrics.accuracy_score(yDigits_test, mlpClassifierDigitsPred))\n",
        "print(metrics.confusion_matrix(yDigits_test, mlpClassifierDigitsPred))\n",
        "print(metrics.classification_report(yDigits_test, mlpClassifierDigitsPred))"
      ],
      "metadata": {
        "colab": {
          "base_uri": "https://localhost:8080/"
        },
        "id": "7TZjSM98wP9R",
        "outputId": "cf1b9486-a26b-40ed-a0e9-a5b702f864f5"
      },
      "id": "7TZjSM98wP9R",
      "execution_count": 76,
      "outputs": [
        {
          "output_type": "stream",
          "name": "stderr",
          "text": [
            "/usr/local/lib/python3.11/dist-packages/sklearn/neural_network/_multilayer_perceptron.py:691: ConvergenceWarning: Stochastic Optimizer: Maximum iterations (200) reached and the optimization hasn't converged yet.\n",
            "  warnings.warn(\n"
          ]
        },
        {
          "output_type": "stream",
          "name": "stdout",
          "text": [
            "0.9666666666666667\n",
            "[[16  0  0]\n",
            " [ 0  4  1]\n",
            " [ 0  0  9]]\n",
            "              precision    recall  f1-score   support\n",
            "\n",
            "           0       1.00      1.00      1.00        16\n",
            "           1       1.00      0.80      0.89         5\n",
            "           2       0.90      1.00      0.95         9\n",
            "\n",
            "    accuracy                           0.97        30\n",
            "   macro avg       0.97      0.93      0.95        30\n",
            "weighted avg       0.97      0.97      0.97        30\n",
            "\n",
            "0.9763560500695411\n",
            "[[77  0  0  0  0  0  0  0  0  0]\n",
            " [ 0 67  2  0  0  0  0  0  0  0]\n",
            " [ 0  0 72  0  0  0  0  0  0  0]\n",
            " [ 0  0  0 74  0  3  0  0  1  0]\n",
            " [ 0  0  0  0 67  0  0  0  0  0]\n",
            " [ 0  0  0  0  0 69  0  1  0  1]\n",
            " [ 0  0  0  0  0  0 75  0  1  0]\n",
            " [ 0  0  0  0  0  0  0 71  0  0]\n",
            " [ 0  3  0  0  0  0  0  0 64  0]\n",
            " [ 0  2  0  1  0  0  0  0  2 66]]\n",
            "              precision    recall  f1-score   support\n",
            "\n",
            "           0       1.00      1.00      1.00        77\n",
            "           1       0.93      0.97      0.95        69\n",
            "           2       0.97      1.00      0.99        72\n",
            "           3       0.99      0.95      0.97        78\n",
            "           4       1.00      1.00      1.00        67\n",
            "           5       0.96      0.97      0.97        71\n",
            "           6       1.00      0.99      0.99        76\n",
            "           7       0.99      1.00      0.99        71\n",
            "           8       0.94      0.96      0.95        67\n",
            "           9       0.99      0.93      0.96        71\n",
            "\n",
            "    accuracy                           0.98       719\n",
            "   macro avg       0.98      0.98      0.98       719\n",
            "weighted avg       0.98      0.98      0.98       719\n",
            "\n"
          ]
        },
        {
          "output_type": "stream",
          "name": "stderr",
          "text": [
            "/usr/local/lib/python3.11/dist-packages/sklearn/neural_network/_multilayer_perceptron.py:691: ConvergenceWarning: Stochastic Optimizer: Maximum iterations (200) reached and the optimization hasn't converged yet.\n",
            "  warnings.warn(\n"
          ]
        }
      ]
    },
    {
      "cell_type": "code",
      "source": [
        "adaBoost=AdaBoostClassifier()\n",
        "adaBoost.fit(X_train, y_train)\n",
        "adaBoostPred=adaBoost.predict(X_test)\n",
        "print(metrics.accuracy_score(y_test, adaBoostPred))\n",
        "print(metrics.confusion_matrix(y_test, adaBoostPred))\n",
        "print(metrics.classification_report(y_test, adaBoostPred))\n",
        "adaBoostDigits=AdaBoostClassifier()\n",
        "adaBoostDigits.fit(XDigits_train, yDigits_train)\n",
        "adaBoostDigitsPred=adaBoostDigits.predict(XDigits_test)\n",
        "print(metrics.accuracy_score(yDigits_test, adaBoostDigitsPred))\n",
        "print(metrics.confusion_matrix(yDigits_test, adaBoostDigitsPred))\n",
        "print(metrics.classification_report(yDigits_test, adaBoostDigitsPred))"
      ],
      "metadata": {
        "colab": {
          "base_uri": "https://localhost:8080/"
        },
        "id": "5YA8KwlxwdTd",
        "outputId": "79f35ec0-6251-4d5f-fc81-352cad62666a"
      },
      "id": "5YA8KwlxwdTd",
      "execution_count": 77,
      "outputs": [
        {
          "output_type": "stream",
          "name": "stdout",
          "text": [
            "0.9666666666666667\n",
            "[[16  0  0]\n",
            " [ 0  4  1]\n",
            " [ 0  0  9]]\n",
            "              precision    recall  f1-score   support\n",
            "\n",
            "           0       1.00      1.00      1.00        16\n",
            "           1       1.00      0.80      0.89         5\n",
            "           2       0.90      1.00      0.95         9\n",
            "\n",
            "    accuracy                           0.97        30\n",
            "   macro avg       0.97      0.93      0.95        30\n",
            "weighted avg       0.97      0.97      0.97        30\n",
            "\n",
            "0.7677329624478443\n",
            "[[69  0  0  0  2  0  1  1  2  2]\n",
            " [ 0 38  8  6  3  0  0  3  8  3]\n",
            " [ 0  0 37  8  0  1  5  0 20  1]\n",
            " [ 0  2  2 63  0  6  1  0  2  2]\n",
            " [ 2  2  0  0 61  0  0  1  1  0]\n",
            " [ 2  0  0  0  6 58  0  2  0  3]\n",
            " [ 1  6  0  0  2  0 67  0  0  0]\n",
            " [ 0  0  0  3  3  0  0 53 10  2]\n",
            " [ 0  2  6  3  0  1  0  0 55  0]\n",
            " [ 0  2  4  7  2  1  0  2  2 51]]\n",
            "              precision    recall  f1-score   support\n",
            "\n",
            "           0       0.93      0.90      0.91        77\n",
            "           1       0.73      0.55      0.63        69\n",
            "           2       0.65      0.51      0.57        72\n",
            "           3       0.70      0.81      0.75        78\n",
            "           4       0.77      0.91      0.84        67\n",
            "           5       0.87      0.82      0.84        71\n",
            "           6       0.91      0.88      0.89        76\n",
            "           7       0.85      0.75      0.80        71\n",
            "           8       0.55      0.82      0.66        67\n",
            "           9       0.80      0.72      0.76        71\n",
            "\n",
            "    accuracy                           0.77       719\n",
            "   macro avg       0.78      0.77      0.76       719\n",
            "weighted avg       0.78      0.77      0.77       719\n",
            "\n"
          ]
        }
      ]
    },
    {
      "cell_type": "code",
      "source": [
        "gaussianNb=GaussianNB()\n",
        "gaussianNb.fit(X_train, y_train)\n",
        "gaussianNbPred=gaussianNb.predict(X_test)\n",
        "print(metrics.accuracy_score(y_test, gaussianNbPred))\n",
        "print(metrics.confusion_matrix(y_test, gaussianNbPred))\n",
        "print(metrics.classification_report(y_test, gaussianNbPred))\n",
        "gaussianNbDigits=GaussianNB()\n",
        "gaussianNbDigits.fit(XDigits_train, yDigits_train)\n",
        "gaussianNbDigitsPred=gaussianNbDigits.predict(XDigits_test)\n",
        "print(metrics.accuracy_score(yDigits_test, gaussianNbDigitsPred))\n",
        "print(metrics.confusion_matrix(yDigits_test, gaussianNbDigitsPred))\n",
        "print(metrics.classification_report(yDigits_test, gaussianNbDigitsPred))"
      ],
      "metadata": {
        "colab": {
          "base_uri": "https://localhost:8080/"
        },
        "id": "9CAP1FNJwham",
        "outputId": "bd7fd9e6-6c60-4792-cf95-0991b7f135c5"
      },
      "id": "9CAP1FNJwham",
      "execution_count": 78,
      "outputs": [
        {
          "output_type": "stream",
          "name": "stdout",
          "text": [
            "0.9666666666666667\n",
            "[[16  0  0]\n",
            " [ 0  5  0]\n",
            " [ 0  1  8]]\n",
            "              precision    recall  f1-score   support\n",
            "\n",
            "           0       1.00      1.00      1.00        16\n",
            "           1       0.83      1.00      0.91         5\n",
            "           2       1.00      0.89      0.94         9\n",
            "\n",
            "    accuracy                           0.97        30\n",
            "   macro avg       0.94      0.96      0.95        30\n",
            "weighted avg       0.97      0.97      0.97        30\n",
            "\n",
            "0.8692628650904033\n",
            "[[76  0  0  0  1  0  0  0  0  0]\n",
            " [ 0 45  8  0  0  0  2  3  7  4]\n",
            " [ 0  3 62  0  1  0  0  0  6  0]\n",
            " [ 0  0  1 64  0  2  1  1  9  0]\n",
            " [ 0  1  0  0 61  0  2  2  1  0]\n",
            " [ 0  0  0  0  0 65  3  1  1  1]\n",
            " [ 0  0  1  0  1  1 73  0  0  0]\n",
            " [ 0  0  1  0  0  1  0 68  1  0]\n",
            " [ 0  2  0  1  0  0  0  1 63  0]\n",
            " [ 0  5  1  2  0  0  0  7  8 48]]\n",
            "              precision    recall  f1-score   support\n",
            "\n",
            "           0       1.00      0.99      0.99        77\n",
            "           1       0.80      0.65      0.72        69\n",
            "           2       0.84      0.86      0.85        72\n",
            "           3       0.96      0.82      0.88        78\n",
            "           4       0.95      0.91      0.93        67\n",
            "           5       0.94      0.92      0.93        71\n",
            "           6       0.90      0.96      0.93        76\n",
            "           7       0.82      0.96      0.88        71\n",
            "           8       0.66      0.94      0.77        67\n",
            "           9       0.91      0.68      0.77        71\n",
            "\n",
            "    accuracy                           0.87       719\n",
            "   macro avg       0.88      0.87      0.87       719\n",
            "weighted avg       0.88      0.87      0.87       719\n",
            "\n"
          ]
        }
      ]
    },
    {
      "cell_type": "code",
      "source": [
        "QDM=QuadraticDiscriminantAnalysis()\n",
        "QDM.fit(X_train, y_train)\n",
        "QDMPred=QDM.predict(X_test)\n",
        "print(metrics.accuracy_score(y_test, QDMPred))\n",
        "print(metrics.confusion_matrix(y_test, QDMPred))\n",
        "print(metrics.classification_report(y_test, QDMPred))\n",
        "QDMDigits=QuadraticDiscriminantAnalysis()\n",
        "QDMDigits.fit(XDigits_train, yDigits_train)\n",
        "QDMDigitsPred=QDMDigits.predict(XDigits_test)\n",
        "print(metrics.accuracy_score(yDigits_test, QDMDigitsPred))\n",
        "print(metrics.confusion_matrix(yDigits_test, QDMDigitsPred))\n",
        "print(metrics.classification_report(yDigits_test, QDMDigitsPred))"
      ],
      "metadata": {
        "colab": {
          "base_uri": "https://localhost:8080/"
        },
        "id": "RapnM40wwlrP",
        "outputId": "5780cf7b-13ac-43ce-a0d9-d12bbd02a160"
      },
      "id": "RapnM40wwlrP",
      "execution_count": 79,
      "outputs": [
        {
          "output_type": "stream",
          "name": "stdout",
          "text": [
            "0.9\n",
            "[[16  0  0]\n",
            " [ 0  3  2]\n",
            " [ 0  1  8]]\n",
            "              precision    recall  f1-score   support\n",
            "\n",
            "           0       1.00      1.00      1.00        16\n",
            "           1       0.75      0.60      0.67         5\n",
            "           2       0.80      0.89      0.84         9\n",
            "\n",
            "    accuracy                           0.90        30\n",
            "   macro avg       0.85      0.83      0.84        30\n",
            "weighted avg       0.90      0.90      0.90        30\n",
            "\n",
            "0.8595271210013908\n",
            "[[76  0  0  0  1  0  0  0  0  0]\n",
            " [ 0 66  0  0  0  0  1  1  1  0]\n",
            " [ 0  4 62  0  1  0  0  0  5  0]\n",
            " [ 0  1  1 24  0  3  2  1 30 16]\n",
            " [ 0  1  0  0 59  0  1  6  0  0]\n",
            " [ 0  0  0  0  0 69  0  0  1  1]\n",
            " [ 0  0  0  0  0  1 74  0  1  0]\n",
            " [ 0  0  0  0  0  1  0 69  1  0]\n",
            " [ 0  2  0  0  0  1  0  1 63  0]\n",
            " [ 0  1  1  0  1  0  0  4  8 56]]\n",
            "              precision    recall  f1-score   support\n",
            "\n",
            "           0       1.00      0.99      0.99        77\n",
            "           1       0.88      0.96      0.92        69\n",
            "           2       0.97      0.86      0.91        72\n",
            "           3       1.00      0.31      0.47        78\n",
            "           4       0.95      0.88      0.91        67\n",
            "           5       0.92      0.97      0.95        71\n",
            "           6       0.95      0.97      0.96        76\n",
            "           7       0.84      0.97      0.90        71\n",
            "           8       0.57      0.94      0.71        67\n",
            "           9       0.77      0.79      0.78        71\n",
            "\n",
            "    accuracy                           0.86       719\n",
            "   macro avg       0.89      0.86      0.85       719\n",
            "weighted avg       0.89      0.86      0.85       719\n",
            "\n"
          ]
        },
        {
          "output_type": "stream",
          "name": "stderr",
          "text": [
            "/usr/local/lib/python3.11/dist-packages/sklearn/discriminant_analysis.py:1024: LinAlgWarning: The covariance matrix of class 0 is not full rank. Increasing the value of parameter `reg_param` might help reducing the collinearity.\n",
            "  warnings.warn(\n",
            "/usr/local/lib/python3.11/dist-packages/sklearn/discriminant_analysis.py:1024: LinAlgWarning: The covariance matrix of class 1 is not full rank. Increasing the value of parameter `reg_param` might help reducing the collinearity.\n",
            "  warnings.warn(\n",
            "/usr/local/lib/python3.11/dist-packages/sklearn/discriminant_analysis.py:1024: LinAlgWarning: The covariance matrix of class 2 is not full rank. Increasing the value of parameter `reg_param` might help reducing the collinearity.\n",
            "  warnings.warn(\n",
            "/usr/local/lib/python3.11/dist-packages/sklearn/discriminant_analysis.py:1024: LinAlgWarning: The covariance matrix of class 3 is not full rank. Increasing the value of parameter `reg_param` might help reducing the collinearity.\n",
            "  warnings.warn(\n",
            "/usr/local/lib/python3.11/dist-packages/sklearn/discriminant_analysis.py:1024: LinAlgWarning: The covariance matrix of class 4 is not full rank. Increasing the value of parameter `reg_param` might help reducing the collinearity.\n",
            "  warnings.warn(\n",
            "/usr/local/lib/python3.11/dist-packages/sklearn/discriminant_analysis.py:1024: LinAlgWarning: The covariance matrix of class 5 is not full rank. Increasing the value of parameter `reg_param` might help reducing the collinearity.\n",
            "  warnings.warn(\n",
            "/usr/local/lib/python3.11/dist-packages/sklearn/discriminant_analysis.py:1024: LinAlgWarning: The covariance matrix of class 6 is not full rank. Increasing the value of parameter `reg_param` might help reducing the collinearity.\n",
            "  warnings.warn(\n",
            "/usr/local/lib/python3.11/dist-packages/sklearn/discriminant_analysis.py:1024: LinAlgWarning: The covariance matrix of class 7 is not full rank. Increasing the value of parameter `reg_param` might help reducing the collinearity.\n",
            "  warnings.warn(\n",
            "/usr/local/lib/python3.11/dist-packages/sklearn/discriminant_analysis.py:1024: LinAlgWarning: The covariance matrix of class 8 is not full rank. Increasing the value of parameter `reg_param` might help reducing the collinearity.\n",
            "  warnings.warn(\n",
            "/usr/local/lib/python3.11/dist-packages/sklearn/discriminant_analysis.py:1024: LinAlgWarning: The covariance matrix of class 9 is not full rank. Increasing the value of parameter `reg_param` might help reducing the collinearity.\n",
            "  warnings.warn(\n"
          ]
        }
      ]
    },
    {
      "cell_type": "code",
      "source": [],
      "metadata": {
        "id": "LmrDS9jewsX0"
      },
      "id": "LmrDS9jewsX0",
      "execution_count": null,
      "outputs": []
    }
  ],
  "metadata": {
    "kernelspec": {
      "display_name": "Python 3",
      "language": "python",
      "name": "python3"
    },
    "language_info": {
      "codemirror_mode": {
        "name": "ipython",
        "version": 3
      },
      "file_extension": ".py",
      "mimetype": "text/x-python",
      "name": "python",
      "nbconvert_exporter": "python",
      "pygments_lexer": "ipython3",
      "version": "3.12.2"
    },
    "colab": {
      "provenance": []
    }
  },
  "nbformat": 4,
  "nbformat_minor": 5
}