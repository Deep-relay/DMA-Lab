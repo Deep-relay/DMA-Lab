{
 "cells": [
  {
   "cell_type": "code",
   "execution_count": 2,
   "metadata": {},
   "outputs": [],
   "source": [
    "import numpy as np"
   ]
  },
  {
   "cell_type": "markdown",
   "metadata": {},
   "source": [
    "### 1. Create a function to check whether a numpy array has zero values or not?"
   ]
  },
  {
   "cell_type": "code",
   "execution_count": 3,
   "metadata": {},
   "outputs": [
    {
     "name": "stdout",
     "output_type": "stream",
     "text": [
      "Zeroes present at [4]\n"
     ]
    }
   ],
   "source": [
    "a=np.array([1,2,3,4,0,5,6,6])\n",
    "b=np.where(a==0)\n",
    "c= f'Zeroes present at {b[0]}'if b[0] else 'No zeroes present'\n",
    "print(c)"
   ]
  },
  {
   "cell_type": "markdown",
   "metadata": {},
   "source": [
    "### 2.Consider an array contains marks of students. Find the median and mean of students who got passing marks."
   ]
  },
  {
   "cell_type": "code",
   "execution_count": 4,
   "metadata": {},
   "outputs": [
    {
     "name": "stdout",
     "output_type": "stream",
     "text": [
      "The mean of marks of passing students is:52.5\n",
      "The median marks of passing students are:52.5\n"
     ]
    }
   ],
   "source": [
    "a=np.arange(10, 80, 5)\n",
    "# a=np.array([12,2,4,4,45])\n",
    "passing=28\n",
    "passingStudents=a[a>passing]\n",
    "passingStudentsMean=np.mean(passingStudents)\n",
    "passingStudentsMedian=np.median(passingStudents)\n",
    "print(f'The mean of marks of passing students is:{passingStudentsMean}\\nThe median marks of passing students are:{passingStudentsMedian}')"
   ]
  },
  {
   "cell_type": "markdown",
   "metadata": {},
   "source": [
    "### 3.Consider an array containing date of birth of students (Use np.datetime64('2018-02-01')). Find the age of all students. If age is 18 label it First, if it is 19, label it Second, if it is 20, label it Third, if it is 21, label it Fourth."
   ]
  },
  {
   "cell_type": "code",
   "execution_count": 5,
   "metadata": {},
   "outputs": [
    {
     "name": "stdout",
     "output_type": "stream",
     "text": [
      "['Fourth' 'Fourth' 'Second']\n"
     ]
    }
   ],
   "source": [
    "dateOfBirth=np.array([np.datetime64('2000-02-01'), np.datetime64('2002-09-23'), np.datetime64('2004-08-07')])\n",
    "def calcAge(x):\n",
    "    # return np.subtract(np.datetime64('now'),x)//np.timedelta64(365, 'D')\n",
    "    return (np.datetime64('today')-x)//np.timedelta64(365,'D')\n",
    "ages=calcAge(dateOfBirth)\n",
    "# print(ages)\n",
    "def labelAge(x):\n",
    "    if x>21:\n",
    "        return 'Fourth'\n",
    "    elif x>20:\n",
    "        return 'Third'\n",
    "    elif x>19:\n",
    "        return 'Second'\n",
    "    elif x>18:\n",
    "        return 'First'\n",
    "    else:\n",
    "        return \"INVALID\"\n",
    "print(np.vectorize(labelAge)(ages))\n"
   ]
  },
  {
   "cell_type": "markdown",
   "metadata": {},
   "source": [
    "### 4.Create a function to sort 2d Array by a column."
   ]
  },
  {
   "cell_type": "code",
   "execution_count": 6,
   "metadata": {},
   "outputs": [
    {
     "name": "stdout",
     "output_type": "stream",
     "text": [
      "[[96 97 83 30 66]\n",
      " [44 15 74 93 28]\n",
      " [74 15 38 36 42]\n",
      " [64 50 71 74 68]\n",
      " [41 73 57 10 88]]\n",
      "\n",
      "\n",
      "\n",
      "Sorted:\n",
      "[[41 15 38 10 28]\n",
      " [44 15 57 30 42]\n",
      " [64 50 71 36 66]\n",
      " [74 73 74 74 68]\n",
      " [96 97 83 93 88]]\n"
     ]
    }
   ],
   "source": [
    "n=5\n",
    "arr = np.random.randint(10, 100, size=(n, n))\n",
    "print(arr)\n",
    "print('\\n\\n')\n",
    "ar=np.sort(arr, axis=0)\n",
    "print(\"Sorted:\")\n",
    "print(ar)"
   ]
  }
 ],
 "metadata": {
  "kernelspec": {
   "display_name": "Python 3",
   "language": "python",
   "name": "python3"
  },
  "language_info": {
   "codemirror_mode": {
    "name": "ipython",
    "version": 3
   },
   "file_extension": ".py",
   "mimetype": "text/x-python",
   "name": "python",
   "nbconvert_exporter": "python",
   "pygments_lexer": "ipython3",
   "version": "3.12.2"
  }
 },
 "nbformat": 4,
 "nbformat_minor": 2
}
